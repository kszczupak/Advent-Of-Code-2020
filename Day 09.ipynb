{
 "cells": [
  {
   "cell_type": "code",
   "execution_count": 1,
   "metadata": {},
   "outputs": [],
   "source": [
    "with open(\"inputs/Day_09.txt\") as f:\n",
    "    puzzle_data = f.read()\n",
    "    \n",
    "    \n",
    "def part_1_solution(raw_data, preamble_length):\n",
    "    xmas_signal = list(map(int, raw_data.split('\\n')))\n",
    "    \n",
    "    preamble = set(xmas_signal[:preamble_length])\n",
    "    \n",
    "    preamble_first_element_idx = 0\n",
    "    \n",
    "    while True:\n",
    "#         print(preamble)\n",
    "        next_element_idx = preamble_first_element_idx + preamble_length\n",
    "        \n",
    "        if next_element_idx >= len(xmas_signal):\n",
    "            raise Exception(\"Reached end of signal\")\n",
    "            \n",
    "        next_element = xmas_signal[next_element_idx]\n",
    "        if not verify_element(next_element, preamble):\n",
    "            return next_element\n",
    "        \n",
    "        # update preamble\n",
    "        preamble.remove(xmas_signal[preamble_first_element_idx])\n",
    "        preamble.add(next_element)\n",
    "        \n",
    "        preamble_first_element_idx += 1\n",
    "    \n",
    "    \n",
    "def verify_element(tested_element, preamble):\n",
    "    for current_element in preamble:\n",
    "        expected_element = tested_element - current_element\n",
    "#         print(expected_element)\n",
    "        \n",
    "        if expected_element in preamble:\n",
    "            return True\n",
    "    \n",
    "    return False"
   ]
  },
  {
   "cell_type": "code",
   "execution_count": 2,
   "metadata": {},
   "outputs": [
    {
     "name": "stdout",
     "output_type": "stream",
     "text": [
      "PASSED (in 0.03 [ms])\n"
     ]
    }
   ],
   "source": [
    "from helpers import test_single_case\n",
    "\n",
    "test_input = \"\"\"\\\n",
    "35\n",
    "20\n",
    "15\n",
    "25\n",
    "47\n",
    "40\n",
    "62\n",
    "55\n",
    "65\n",
    "95\n",
    "102\n",
    "117\n",
    "150\n",
    "182\n",
    "127\n",
    "219\n",
    "299\n",
    "277\n",
    "309\n",
    "576\\\n",
    "\"\"\"\n",
    "test_single_case(part_1_solution, 127, test_input, 5)"
   ]
  },
  {
   "cell_type": "code",
   "execution_count": 3,
   "metadata": {},
   "outputs": [
    {
     "name": "stdout",
     "output_type": "stream",
     "text": [
      "Part 1 solution: 22406676\n",
      "CPU times: user 1.86 ms, sys: 221 µs, total: 2.08 ms\n",
      "Wall time: 1.54 ms\n"
     ]
    }
   ],
   "source": [
    "%%time\n",
    "print(f\"Part 1 solution: {part_1_solution(puzzle_data, 25)}\")"
   ]
  },
  {
   "cell_type": "code",
   "execution_count": 14,
   "metadata": {},
   "outputs": [],
   "source": [
    "with open(\"inputs/Day_08.txt\") as f:\n",
    "    puzzle_data = f.read()\n",
    "    \n",
    "    \n",
    "def part_2_solution(raw_data):\n",
    "    original_instructions, positions_of_jmp_or_nop = parse_instructions(raw_data)\n",
    "    \n",
    "    for idx_to_modify in positions_of_jmp_or_nop:\n",
    "        import re\n",
    "\n",
    "with open(\"inputs/Day_09.txt\") as f:\n",
    "    puzzle_data = f.read()\n",
    "    \n",
    "    \n",
    "def part_2_solution(raw_data, target_sum):\n",
    "    xmas_signal = list(map(int, raw_data.split('\\n')))\n",
    "    \n",
    "    start_idx = 0\n",
    "    end_idx = 0\n",
    "    current_sum = 0\n",
    "    \n",
    "    while True:\n",
    "        current_sum, end_idx = maybe_grow(xmas_signal, target_sum, end_idx, current_sum)\n",
    "        current_sum, start_idx = maybe_shrink(xmas_signal, target_sum, start_idx, current_sum)\n",
    "        \n",
    "        if current_sum == target_sum:\n",
    "            found_range = xmas_signal[start_idx:end_idx]\n",
    "            return min(found_range) + max(found_range)\n",
    "    \n",
    "def maybe_grow(signal, target_value, end_idx, current_sum):\n",
    "    while True:\n",
    "        if current_sum >= target_value:\n",
    "            return current_sum, end_idx\n",
    "        \n",
    "        if end_idx >= len(signal):\n",
    "            return current_sum, end_idx\n",
    "        \n",
    "        current_sum += signal[end_idx]\n",
    "        end_idx += 1\n",
    "        \n",
    "        \n",
    "def maybe_shrink(signal, target_value, start_idx, current_sum):\n",
    "    while True:\n",
    "        if current_sum <= target_value:\n",
    "            return current_sum, start_idx\n",
    "        \n",
    "        if start_idx >= len(signal):\n",
    "            raise Exception(\"start_idx reached end of the signal\")\n",
    "            \n",
    "        current_sum -= signal[start_idx]\n",
    "        start_idx += 1\n",
    "        "
   ]
  },
  {
   "cell_type": "code",
   "execution_count": 15,
   "metadata": {},
   "outputs": [
    {
     "name": "stdout",
     "output_type": "stream",
     "text": [
      "PASSED (in 0.03 [ms])\n"
     ]
    }
   ],
   "source": [
    "test_single_case(part_2_solution, 62, test_input, 127)"
   ]
  },
  {
   "cell_type": "code",
   "execution_count": 16,
   "metadata": {},
   "outputs": [
    {
     "name": "stdout",
     "output_type": "stream",
     "text": [
      "Part 2 solution: 2942387\n",
      "CPU times: user 1.42 ms, sys: 322 µs, total: 1.74 ms\n",
      "Wall time: 1.19 ms\n"
     ]
    }
   ],
   "source": [
    "%%time\n",
    "print(f\"Part 2 solution: {part_2_solution(puzzle_data, 22406676)}\")"
   ]
  },
  {
   "cell_type": "code",
   "execution_count": null,
   "metadata": {},
   "outputs": [],
   "source": []
  }
 ],
 "metadata": {
  "kernelspec": {
   "display_name": "Python 3",
   "language": "python",
   "name": "python3"
  },
  "language_info": {
   "codemirror_mode": {
    "name": "ipython",
    "version": 3
   },
   "file_extension": ".py",
   "mimetype": "text/x-python",
   "name": "python",
   "nbconvert_exporter": "python",
   "pygments_lexer": "ipython3",
   "version": "3.8.5"
  }
 },
 "nbformat": 4,
 "nbformat_minor": 4
}
