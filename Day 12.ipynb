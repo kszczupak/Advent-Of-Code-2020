{
 "cells": [
  {
   "cell_type": "code",
   "execution_count": 3,
   "metadata": {},
   "outputs": [],
   "source": [
    "with open(\"inputs/Day_12.txt\") as f:\n",
    "    puzzle_data = f.read()\n",
    "    \n",
    "    \n",
    "def part_1_solution(raw_data):\n",
    "    current_position = 0, 0\n",
    "    current_direction = DIRECTION['east']\n",
    "    \n",
    "    for row_line in raw_data.splitlines():\n",
    "        action, arg = row_line[0], int(row_line[1:])\n",
    "        \n",
    "        if action == 'N':\n",
    "            current_position = move(current_position, DIRECTION['north'], arg)\n",
    "        elif action == 'S':\n",
    "            current_position = move(current_position, DIRECTION['south'], arg)\n",
    "        elif action == 'E':\n",
    "            current_position = move(current_position, DIRECTION['east'], arg)\n",
    "        elif action == 'W':\n",
    "            current_position = move(current_position, DIRECTION['west'], arg)\n",
    "        elif action == 'L':\n",
    "            current_direction = turn_left(current_direction, arg)\n",
    "        elif action == 'R':\n",
    "            current_direction = turn_right(current_direction, arg)\n",
    "        elif action == 'F':\n",
    "            current_position = move(current_position, current_direction, arg)\n",
    "        else:\n",
    "            raise Exception(f\"Unknown action: {action}\")\n",
    "            \n",
    "#         print(current_position)\n",
    "            \n",
    "    return abs(current_position[0]) + abs(current_position[1])\n",
    "\n",
    "# alias -> x_offset, y_offset\n",
    "DIRECTION = {\n",
    "    'north': (0, -1),\n",
    "    'south': (0, 1),\n",
    "    'west': (-1, 0),\n",
    "    'east': (1, 0)\n",
    "}\n",
    "\n",
    "LEFT_TURN_MAP = {\n",
    "    DIRECTION['north']: DIRECTION['west'],\n",
    "    DIRECTION['west']: DIRECTION['south'],\n",
    "    DIRECTION['south']: DIRECTION['east'],\n",
    "    DIRECTION['east']: DIRECTION['north']\n",
    "}\n",
    "\n",
    "\n",
    "RIGHT_TURN_MAP = {v: k for k, v in LEFT_TURN_MAP.items()}\n",
    "\n",
    "\n",
    "def turn_right(direction, nbr_of_degrees):\n",
    "    fixed_degrees = nbr_of_degrees % 360\n",
    "    nbr_of_turns = fixed_degrees // 90\n",
    "    \n",
    "    for _ in range(nbr_of_turns):\n",
    "        direction = RIGHT_TURN_MAP[direction]\n",
    "        \n",
    "    return direction\n",
    "\n",
    "\n",
    "def turn_left(direction, nbr_of_degrees):\n",
    "    fixed_degrees = nbr_of_degrees % 360\n",
    "    nbr_of_turns = fixed_degrees // 90\n",
    "    \n",
    "    for _ in range(nbr_of_turns):\n",
    "        direction = LEFT_TURN_MAP[direction]\n",
    "        \n",
    "    return direction\n",
    "\n",
    "\n",
    "def move(old_position, direction, nbr_of_steps):\n",
    "    old_x, old_y = old_position\n",
    "    x_offset, y_offset = direction\n",
    "    \n",
    "    new_x = old_x + x_offset * nbr_of_steps\n",
    "    new_y = old_y + y_offset * nbr_of_steps\n",
    "    \n",
    "    return new_x, new_y"
   ]
  },
  {
   "cell_type": "code",
   "execution_count": 4,
   "metadata": {},
   "outputs": [
    {
     "name": "stdout",
     "output_type": "stream",
     "text": [
      "PASSED (in 0.03 [ms])\n"
     ]
    }
   ],
   "source": [
    "from helpers import test_single_case\n",
    "\n",
    "test_input = \"\"\"\\\n",
    "F10\n",
    "N3\n",
    "F7\n",
    "R90\n",
    "F11\\\n",
    "\"\"\"\n",
    "test_single_case(part_1_solution, 25, test_input)"
   ]
  },
  {
   "cell_type": "code",
   "execution_count": 5,
   "metadata": {},
   "outputs": [
    {
     "name": "stdout",
     "output_type": "stream",
     "text": [
      "Part 1 solution: 636\n",
      "CPU times: user 842 µs, sys: 85 µs, total: 927 µs\n",
      "Wall time: 936 µs\n"
     ]
    }
   ],
   "source": [
    "%%time\n",
    "print(f\"Part 1 solution: {part_1_solution(puzzle_data)}\")"
   ]
  },
  {
   "cell_type": "code",
   "execution_count": 15,
   "metadata": {},
   "outputs": [],
   "source": [
    "with open(\"inputs/Day_12.txt\") as f:\n",
    "    puzzle_data = f.read()\n",
    "    \n",
    "    \n",
    "def part_2_solution(raw_data):\n",
    "    ship_position = 0, 0\n",
    "    waypoint_position = -10, 1\n",
    "    \n",
    "    for row_line in raw_data.splitlines():\n",
    "        action, arg = row_line[0], int(row_line[1:])\n",
    "        \n",
    "        if action == 'N':\n",
    "            waypoint_position = move_waypoint(waypoint_position, DIRECTION['north'], arg)\n",
    "        elif action == 'S':\n",
    "            waypoint_position = move_waypoint(waypoint_position, DIRECTION['south'], arg)\n",
    "        elif action == 'E':\n",
    "            waypoint_position = move_waypoint(waypoint_position, DIRECTION['east'], arg)\n",
    "        elif action == 'W':\n",
    "            waypoint_position = move_waypoint(waypoint_position, DIRECTION['west'], arg)\n",
    "        elif action == 'L':\n",
    "            waypoint_position = turn_left(waypoint_position, arg)\n",
    "        elif action == 'R':\n",
    "            waypoint_position = turn_right(waypoint_position, arg)\n",
    "        elif action == 'F':\n",
    "            ship_position = move_to_waypoint(ship_position, waypoint_position, arg)\n",
    "        else:\n",
    "            raise Exception(f\"Unknown action: {action}\")\n",
    "            \n",
    "#         print(f\"{ship_position=}  {waypoint_position=}\")\n",
    "            \n",
    "    return abs(ship_position[0]) + abs(ship_position[1])\n",
    "\n",
    "# alias -> x_offset, y_offset\n",
    "DIRECTION = {\n",
    "    'north': (0, 1),\n",
    "    'south': (0, -1),\n",
    "    'west': (1, 0),\n",
    "    'east': (-1, 0)\n",
    "}\n",
    "\n",
    "\n",
    "def turn_right(relative_position, nbr_of_degrees):\n",
    "    fixed_degrees = nbr_of_degrees % 360\n",
    "    nbr_of_turns = fixed_degrees // 90\n",
    "    \n",
    "    for _ in range(nbr_of_turns):\n",
    "        relative_position = turn_right_relative_90_deg(relative_position)\n",
    "        \n",
    "    return relative_position\n",
    "\n",
    "\n",
    "def turn_right_relative_90_deg(relative_position):\n",
    "    old_x, old_y = relative_position\n",
    "    \n",
    "    return -1 * old_y, old_x\n",
    "\n",
    "\n",
    "def turn_left(relative_position, nbr_of_degrees):\n",
    "    fixed_degrees = nbr_of_degrees % 360\n",
    "    nbr_of_turns = fixed_degrees // 90\n",
    "    \n",
    "    for _ in range(nbr_of_turns):\n",
    "        relative_position = turn_left_relative_90_deg(relative_position)\n",
    "        \n",
    "    return relative_position\n",
    "\n",
    "\n",
    "def turn_left_relative_90_deg(relative_position):\n",
    "    old_x, old_y = relative_position\n",
    "    \n",
    "    return old_y, -1 * old_x\n",
    "\n",
    "\n",
    "def move_waypoint(waypoint_position, direction, nbr_of_steps):\n",
    "    old_x, old_y = waypoint_position\n",
    "    x_offset, y_offset = direction\n",
    "    \n",
    "    new_x = old_x + x_offset * nbr_of_steps\n",
    "    new_y = old_y + y_offset * nbr_of_steps\n",
    "    \n",
    "    return new_x, new_y\n",
    "\n",
    "\n",
    "def move_to_waypoint(ship_position, waypoint_position, nbr_of_times):\n",
    "    new_x = ship_position[0] + waypoint_position[0] * nbr_of_times\n",
    "    new_y = ship_position[1] + waypoint_position[1] * nbr_of_times\n",
    "    \n",
    "    return new_x, new_y"
   ]
  },
  {
   "cell_type": "code",
   "execution_count": 16,
   "metadata": {},
   "outputs": [
    {
     "name": "stdout",
     "output_type": "stream",
     "text": [
      "PASSED (in 0.02 [ms])\n"
     ]
    }
   ],
   "source": [
    "test_single_case(part_2_solution, 286, test_input)"
   ]
  },
  {
   "cell_type": "code",
   "execution_count": 17,
   "metadata": {},
   "outputs": [
    {
     "name": "stdout",
     "output_type": "stream",
     "text": [
      "Part 2 solution: 26841\n",
      "CPU times: user 1.21 ms, sys: 198 µs, total: 1.41 ms\n",
      "Wall time: 1.17 ms\n"
     ]
    }
   ],
   "source": [
    "%%time\n",
    "print(f\"Part 2 solution: {part_2_solution(puzzle_data)}\")"
   ]
  },
  {
   "cell_type": "code",
   "execution_count": null,
   "metadata": {},
   "outputs": [],
   "source": []
  }
 ],
 "metadata": {
  "kernelspec": {
   "display_name": "Python 3",
   "language": "python",
   "name": "python3"
  },
  "language_info": {
   "codemirror_mode": {
    "name": "ipython",
    "version": 3
   },
   "file_extension": ".py",
   "mimetype": "text/x-python",
   "name": "python",
   "nbconvert_exporter": "python",
   "pygments_lexer": "ipython3",
   "version": "3.8.5"
  }
 },
 "nbformat": 4,
 "nbformat_minor": 4
}
