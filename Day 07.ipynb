{
 "cells": [
  {
   "cell_type": "code",
   "execution_count": 47,
   "metadata": {},
   "outputs": [],
   "source": [
    "import re\n",
    "\n",
    "with open(\"inputs/Day_07.txt\") as f:\n",
    "    puzzle_data = f.read()\n",
    "    \n",
    "    \n",
    "def part_1_solution(raw_data):\n",
    "    rules = parse_rules(raw_data)\n",
    "    \n",
    "    bags_which_ban_contain_shiny_gold_bag = search_for_bags_which_contain_target_bag(\n",
    "        rules,\n",
    "        \"shiny gold\"\n",
    "    )\n",
    "    \n",
    "    return len(bags_which_ban_contain_shiny_gold_bag)\n",
    "    \n",
    "def search_for_bags_which_contain_target_bag(rules, target_bag):\n",
    "    result_bags = set()\n",
    "    for parent_bag in rules.keys():\n",
    "        if target_bag in rules[parent_bag]:\n",
    "            result_bags.add(parent_bag)\n",
    "            result_bags |= search_for_bags_which_contain_target_bag(rules, parent_bag)\n",
    "            \n",
    "    return result_bags\n",
    "\n",
    "def parse_rules(raw_rules):\n",
    "    rules = dict()\n",
    "    \n",
    "    for raw_rule in raw_rules.split('\\n'):\n",
    "        raw_parent_bag, raw_child_bags = raw_rule.split('contain')\n",
    "        \n",
    "        parent_bag = raw_parent_bag.replace('bags', '').strip()\n",
    "        \n",
    "        rules[parent_bag] = parse_child_bags(raw_child_bags)\n",
    "    \n",
    "    return rules\n",
    "        \n",
    "        \n",
    "def parse_child_bags(raw_bags):\n",
    "    if \"no other bags\" in raw_bags:\n",
    "        return set()\n",
    "    \n",
    "    parsed_childs = set()\n",
    "    \n",
    "    for raw_bag in raw_bags.split(','):\n",
    "        raw_bag = raw_bag.strip()\n",
    "        match = re.match(r'(?P<quantity>\\d*) (?P<name>.*) bag', raw_bag)\n",
    "        parsed_childs.add(match['name'])\n",
    "        \n",
    "    return parsed_childs"
   ]
  },
  {
   "cell_type": "code",
   "execution_count": 43,
   "metadata": {},
   "outputs": [
    {
     "name": "stdout",
     "output_type": "stream",
     "text": [
      "PASSED (in 0.07 [ms])\n"
     ]
    }
   ],
   "source": [
    "from helpers import test_single_case\n",
    "\n",
    "test_input = \"\"\"\\\n",
    "light red bags contain 1 bright white bag, 2 muted yellow bags.\n",
    "dark orange bags contain 3 bright white bags, 4 muted yellow bags.\n",
    "bright white bags contain 1 shiny gold bag.\n",
    "muted yellow bags contain 2 shiny gold bags, 9 faded blue bags.\n",
    "shiny gold bags contain 1 dark olive bag, 2 vibrant plum bags.\n",
    "dark olive bags contain 3 faded blue bags, 4 dotted black bags.\n",
    "vibrant plum bags contain 5 faded blue bags, 6 dotted black bags.\n",
    "faded blue bags contain no other bags.\n",
    "dotted black bags contain no other bags.\\\n",
    "\"\"\"\n",
    "test_single_case(part_1_solution, 4, test_input)"
   ]
  },
  {
   "cell_type": "code",
   "execution_count": 3,
   "metadata": {},
   "outputs": [
    {
     "name": "stdout",
     "output_type": "stream",
     "text": [
      "Part 1 solution: 177\n"
     ]
    }
   ],
   "source": [
    "print(f\"Part 1 solution: {part_1_solution(puzzle_data)}\")"
   ]
  },
  {
   "cell_type": "code",
   "execution_count": 49,
   "metadata": {},
   "outputs": [],
   "source": [
    "import re\n",
    "\n",
    "with open(\"inputs/Day_07.txt\") as f:\n",
    "    puzzle_data = f.read()\n",
    "    \n",
    "    \n",
    "def part_2_solution(raw_data):\n",
    "    rules = parse_rules(raw_data)\n",
    "    \n",
    "    return count_containing_bags(rules, \"shiny gold\")\n",
    "    \n",
    "def count_containing_bags(rules, start_bag):\n",
    "    if not rules[start_bag]:\n",
    "        return 0\n",
    "    \n",
    "    bags_cnt = 0\n",
    "    \n",
    "    for child_bag, quantity in rules[start_bag].items():\n",
    "        bags_cnt += quantity + quantity * count_containing_bags(rules, child_bag)\n",
    "            \n",
    "    return bags_cnt\n",
    "\n",
    "def parse_rules(raw_rules):\n",
    "    rules = dict()\n",
    "    \n",
    "    for raw_rule in raw_rules.split('\\n'):\n",
    "        raw_parent_bag, raw_child_bags = raw_rule.split('contain')\n",
    "        \n",
    "        parent_bag = raw_parent_bag.replace('bags', '').strip()\n",
    "        \n",
    "        rules[parent_bag] = parse_child_bags(raw_child_bags)\n",
    "    \n",
    "    return rules\n",
    "        \n",
    "        \n",
    "def parse_child_bags(raw_bags):\n",
    "    if \"no other bags\" in raw_bags:\n",
    "        return dict()\n",
    "    \n",
    "    parsed_childs = dict()\n",
    "    \n",
    "    for raw_bag in raw_bags.split(','):\n",
    "        raw_bag = raw_bag.strip()\n",
    "        match = re.match(r'(?P<quantity>\\d*) (?P<name>.*) bag', raw_bag)\n",
    "        parsed_childs[match['name']] = int(match['quantity'])\n",
    "        \n",
    "    return parsed_childs"
   ]
  },
  {
   "cell_type": "code",
   "execution_count": 50,
   "metadata": {},
   "outputs": [
    {
     "name": "stdout",
     "output_type": "stream",
     "text": [
      "Case #0: PASSED (0.08 [ms])\n",
      "Case #1: PASSED (0.10 [ms])\n",
      "========================================\n",
      "All tests passed; Elapsed time: 1.42 [ms]\n"
     ]
    }
   ],
   "source": [
    "from helpers import test_multiple_cases\n",
    "\n",
    "test_1 = \"\"\"\\\n",
    "light red bags contain 1 bright white bag, 2 muted yellow bags.\n",
    "dark orange bags contain 3 bright white bags, 4 muted yellow bags.\n",
    "bright white bags contain 1 shiny gold bag.\n",
    "muted yellow bags contain 2 shiny gold bags, 9 faded blue bags.\n",
    "shiny gold bags contain 1 dark olive bag, 2 vibrant plum bags.\n",
    "dark olive bags contain 3 faded blue bags, 4 dotted black bags.\n",
    "vibrant plum bags contain 5 faded blue bags, 6 dotted black bags.\n",
    "faded blue bags contain no other bags.\n",
    "dotted black bags contain no other bags.\\\n",
    "\"\"\"\n",
    "\n",
    "test_2 = \"\"\"\\\n",
    "shiny gold bags contain 2 dark red bags.\n",
    "dark red bags contain 2 dark orange bags.\n",
    "dark orange bags contain 2 dark yellow bags.\n",
    "dark yellow bags contain 2 dark green bags.\n",
    "dark green bags contain 2 dark blue bags.\n",
    "dark blue bags contain 2 dark violet bags.\n",
    "dark violet bags contain no other bags.\\\n",
    "\"\"\"\n",
    "\n",
    "test_multiple_cases(\n",
    "    part_2_solution,\n",
    "    (\n",
    "        (32, test_1),\n",
    "        (126, test_2)\n",
    "    )\n",
    ")"
   ]
  },
  {
   "cell_type": "code",
   "execution_count": 24,
   "metadata": {},
   "outputs": [
    {
     "name": "stdout",
     "output_type": "stream",
     "text": [
      "Part 2 solution: 34988\n"
     ]
    }
   ],
   "source": [
    "print(f\"Part 2 solution: {part_2_solution(puzzle_data)}\")"
   ]
  },
  {
   "cell_type": "code",
   "execution_count": null,
   "metadata": {},
   "outputs": [],
   "source": []
  }
 ],
 "metadata": {
  "kernelspec": {
   "display_name": "Python 3",
   "language": "python",
   "name": "python3"
  },
  "language_info": {
   "codemirror_mode": {
    "name": "ipython",
    "version": 3
   },
   "file_extension": ".py",
   "mimetype": "text/x-python",
   "name": "python",
   "nbconvert_exporter": "python",
   "pygments_lexer": "ipython3",
   "version": "3.8.5"
  }
 },
 "nbformat": 4,
 "nbformat_minor": 4
}
