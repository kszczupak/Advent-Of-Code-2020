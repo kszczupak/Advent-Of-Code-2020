{
 "cells": [
  {
   "cell_type": "code",
   "execution_count": 12,
   "metadata": {},
   "outputs": [],
   "source": [
    "from collections import defaultdict\n",
    "\n",
    "with open(\"inputs/Day_10.txt\") as f:\n",
    "    puzzle_data = f.read()\n",
    "    \n",
    "    \n",
    "def part_1_solution(raw_data):\n",
    "    chain = set(map(int, raw_data.split('\\n')))\n",
    "    \n",
    "    last_element = max(chain) + 3\n",
    "    \n",
    "    chain.add(last_element)\n",
    "    \n",
    "    current_elment = 0\n",
    "    \n",
    "    differences = defaultdict(int)\n",
    "    \n",
    "    while current_elment != last_element:\n",
    "        next_element = get_next_element(current_elment, chain)\n",
    "        \n",
    "        differences[next_element - current_elment] += 1\n",
    "        \n",
    "        current_elment = next_element\n",
    "    \n",
    "    return differences[1] * differences[3]\n",
    "    \n",
    "def get_next_element(element, chain):\n",
    "    if (element + 1) in chain:\n",
    "        return element + 1\n",
    "    \n",
    "    if (element + 2) in chain:\n",
    "        # newer reached in problem\n",
    "        return element + 2\n",
    "    \n",
    "    if (element + 3) in chain:\n",
    "        return element + 3\n",
    "    \n",
    "    raise Exception(f\"Next element not found for {element}\")\n",
    "    "
   ]
  },
  {
   "cell_type": "code",
   "execution_count": 13,
   "metadata": {},
   "outputs": [
    {
     "name": "stdout",
     "output_type": "stream",
     "text": [
      "Case #0: PASSED (0.02 [ms])\n",
      "Case #1: PASSED (0.03 [ms])\n",
      "========================================\n",
      "All tests passed; Elapsed time: 0.96 [ms]\n"
     ]
    }
   ],
   "source": [
    "from helpers import test_multiple_cases\n",
    "\n",
    "test_1 = \"\"\"\\\n",
    "16\n",
    "10\n",
    "15\n",
    "5\n",
    "1\n",
    "11\n",
    "7\n",
    "19\n",
    "6\n",
    "12\n",
    "4\\\n",
    "\"\"\"\n",
    "test_2 = \"\"\"\\\n",
    "28\n",
    "33\n",
    "18\n",
    "42\n",
    "31\n",
    "14\n",
    "46\n",
    "20\n",
    "48\n",
    "47\n",
    "24\n",
    "23\n",
    "49\n",
    "45\n",
    "19\n",
    "38\n",
    "39\n",
    "11\n",
    "1\n",
    "32\n",
    "25\n",
    "35\n",
    "8\n",
    "17\n",
    "7\n",
    "9\n",
    "4\n",
    "2\n",
    "34\n",
    "10\n",
    "3\\\n",
    "\"\"\"\n",
    "test_multiple_cases(\n",
    "    part_1_solution,\n",
    "    (\n",
    "        (35, test_1),\n",
    "        (220, test_2)\n",
    "    )\n",
    ")"
   ]
  },
  {
   "cell_type": "code",
   "execution_count": 14,
   "metadata": {},
   "outputs": [
    {
     "name": "stdout",
     "output_type": "stream",
     "text": [
      "Part 1 solution: 1820\n",
      "CPU times: user 509 µs, sys: 172 µs, total: 681 µs\n",
      "Wall time: 457 µs\n"
     ]
    }
   ],
   "source": [
    "%%time\n",
    "print(f\"Part 1 solution: {part_1_solution(puzzle_data)}\")"
   ]
  },
  {
   "cell_type": "code",
   "execution_count": 19,
   "metadata": {},
   "outputs": [],
   "source": [
    "from collections import defaultdict\n",
    "\n",
    "with open(\"inputs/Day_10.txt\") as f:\n",
    "    puzzle_data = f.read()\n",
    "    \n",
    "    \n",
    "def part_2_solution(raw_data):\n",
    "    chain = list(map(int, raw_data.split('\\n')))\n",
    "    combinations = defaultdict(int)\n",
    "    combinations[0] = 1\n",
    "    chain = sorted(chain)\n",
    "    chain.append(chain[-1] + 3)\n",
    "    \n",
    "    for element in chain:\n",
    "        combinations[element] = combinations[element - 1] + combinations[element - 2] + combinations[element - 3]\n",
    "        \n",
    "    return combinations[chain[-1]]\n",
    "        "
   ]
  },
  {
   "cell_type": "code",
   "execution_count": 20,
   "metadata": {},
   "outputs": [
    {
     "name": "stdout",
     "output_type": "stream",
     "text": [
      "Case #0: PASSED (0.03 [ms])\n",
      "Case #1: PASSED (0.03 [ms])\n",
      "========================================\n",
      "All tests passed; Elapsed time: 1.04 [ms]\n"
     ]
    }
   ],
   "source": [
    "test_multiple_cases(\n",
    "    part_2_solution,\n",
    "    (\n",
    "        (8, test_1),\n",
    "        (19208, test_2)\n",
    "    )\n",
    ")"
   ]
  },
  {
   "cell_type": "code",
   "execution_count": 21,
   "metadata": {},
   "outputs": [
    {
     "name": "stdout",
     "output_type": "stream",
     "text": [
      "Part 2 solution: 3454189699072\n",
      "CPU times: user 1.29 ms, sys: 187 µs, total: 1.48 ms\n",
      "Wall time: 900 µs\n"
     ]
    }
   ],
   "source": [
    "%%time\n",
    "print(f\"Part 2 solution: {part_2_solution(puzzle_data)}\")"
   ]
  },
  {
   "cell_type": "code",
   "execution_count": null,
   "metadata": {},
   "outputs": [],
   "source": []
  }
 ],
 "metadata": {
  "kernelspec": {
   "display_name": "Python 3",
   "language": "python",
   "name": "python3"
  },
  "language_info": {
   "codemirror_mode": {
    "name": "ipython",
    "version": 3
   },
   "file_extension": ".py",
   "mimetype": "text/x-python",
   "name": "python",
   "nbconvert_exporter": "python",
   "pygments_lexer": "ipython3",
   "version": "3.8.5"
  }
 },
 "nbformat": 4,
 "nbformat_minor": 4
}
