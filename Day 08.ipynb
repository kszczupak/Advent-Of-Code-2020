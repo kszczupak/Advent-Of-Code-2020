{
 "cells": [
  {
   "cell_type": "code",
   "execution_count": 10,
   "metadata": {},
   "outputs": [],
   "source": [
    "import re\n",
    "\n",
    "with open(\"inputs/Day_08.txt\") as f:\n",
    "    puzzle_data = f.read()\n",
    "    \n",
    "    \n",
    "def part_1_solution(raw_data):\n",
    "    instructions = parse_instructions(raw_data)\n",
    "    \n",
    "    result_accumulator = simulate_computer(instructions)\n",
    "    \n",
    "    return result_accumulator\n",
    "\n",
    "def parse_instructions(raw_instructions):\n",
    "    instructions = list()\n",
    "    \n",
    "    for raw_instruction in raw_instructions.split('\\n'):\n",
    "        raw_operator, raw_argument = raw_instruction.split(' ')\n",
    "        instruction = (raw_operator.strip(), int(raw_argument))\n",
    "        instructions.append(instruction)\n",
    "    \n",
    "    return instructions\n",
    "        \n",
    "        \n",
    "def simulate_computer(instructions):\n",
    "    instruction_idx = 0\n",
    "    accumulator = 0\n",
    "    \n",
    "    executed_instructions = set()\n",
    "    \n",
    "    while True:\n",
    "        if instruction_idx in executed_instructions:\n",
    "            return accumulator\n",
    "        \n",
    "        executed_instructions.add(instruction_idx)\n",
    "        \n",
    "        operator, argument = instructions[instruction_idx]\n",
    "        \n",
    "        if operator == \"acc\":\n",
    "            accumulator += argument\n",
    "            instruction_idx += 1\n",
    "        elif operator == \"jmp\":\n",
    "            instruction_idx += argument\n",
    "        elif operator == \"nop\":\n",
    "            instruction_idx += 1\n",
    "        else:\n",
    "            raise Exception(f\"Unknown operator: {operator}\")"
   ]
  },
  {
   "cell_type": "code",
   "execution_count": 11,
   "metadata": {},
   "outputs": [
    {
     "name": "stdout",
     "output_type": "stream",
     "text": [
      "PASSED (in 0.02 [ms])\n"
     ]
    }
   ],
   "source": [
    "from helpers import test_single_case\n",
    "\n",
    "test_input = \"\"\"\\\n",
    "nop +0\n",
    "acc +1\n",
    "jmp +4\n",
    "acc +3\n",
    "jmp -3\n",
    "acc -99\n",
    "acc +1\n",
    "jmp -4\n",
    "acc +6\\\n",
    "\"\"\"\n",
    "test_single_case(part_1_solution, 5, test_input)"
   ]
  },
  {
   "cell_type": "code",
   "execution_count": 12,
   "metadata": {},
   "outputs": [
    {
     "name": "stdout",
     "output_type": "stream",
     "text": [
      "Part 1 solution: 1179\n",
      "CPU times: user 3.26 ms, sys: 807 µs, total: 4.07 ms\n",
      "Wall time: 2.37 ms\n"
     ]
    }
   ],
   "source": [
    "%%time\n",
    "print(f\"Part 1 solution: {part_1_solution(puzzle_data)}\")"
   ]
  },
  {
   "cell_type": "code",
   "execution_count": 25,
   "metadata": {},
   "outputs": [],
   "source": [
    "import re\n",
    "import copy\n",
    "\n",
    "with open(\"inputs/Day_08.txt\") as f:\n",
    "    puzzle_data = f.read()\n",
    "    \n",
    "    \n",
    "def part_2_solution(raw_data):\n",
    "    original_instructions, positions_of_jmp_or_nop = parse_instructions(raw_data)\n",
    "    \n",
    "    for idx_to_modify in positions_of_jmp_or_nop:\n",
    "        candidate_instructions = copy.deepcopy(original_instructions)\n",
    "        if candidate_instructions[idx_to_modify][0] == \"jmp\":\n",
    "            candidate_instructions[idx_to_modify][0] = \"nop\"\n",
    "        else:\n",
    "            candidate_instructions[idx_to_modify][0] = \"jmp\"\n",
    "            \n",
    "        message = simulate_computer(candidate_instructions)\n",
    "#         breakpoint()\n",
    "        if message != \"Loop detected\":\n",
    "            return message\n",
    "\n",
    "def parse_instructions(raw_instructions):\n",
    "    instructions = list()\n",
    "    positions_of_jmp_or_nop = list()\n",
    "    \n",
    "    for idx, raw_instruction in enumerate(raw_instructions.split('\\n')):\n",
    "        raw_operator, raw_argument = raw_instruction.split(' ')\n",
    "        instruction = [raw_operator.strip(), int(raw_argument)]\n",
    "        instructions.append(instruction)\n",
    "        \n",
    "        if instruction[0] == \"jmp\" or instruction[0] == \"nop\":\n",
    "            positions_of_jmp_or_nop.append(idx)\n",
    "    \n",
    "    return instructions, positions_of_jmp_or_nop\n",
    "        \n",
    "        \n",
    "def simulate_computer(instructions):\n",
    "    instruction_idx = 0\n",
    "    accumulator = 0\n",
    "    \n",
    "    executed_instructions = set()\n",
    "    \n",
    "    while True:\n",
    "        if instruction_idx in executed_instructions:\n",
    "            return \"Loop detected\"\n",
    "        \n",
    "        if instruction_idx >= len(instructions):\n",
    "            return accumulator\n",
    "        \n",
    "        executed_instructions.add(instruction_idx)\n",
    "        \n",
    "        operator, argument = instructions[instruction_idx]\n",
    "        \n",
    "        if operator == \"acc\":\n",
    "            accumulator += argument\n",
    "            instruction_idx += 1\n",
    "        elif operator == \"jmp\":\n",
    "            instruction_idx += argument\n",
    "        elif operator == \"nop\":\n",
    "            instruction_idx += 1\n",
    "        else:\n",
    "            raise Exception(f\"Unknown operator: {operator}\")"
   ]
  },
  {
   "cell_type": "code",
   "execution_count": 26,
   "metadata": {},
   "outputs": [
    {
     "name": "stdout",
     "output_type": "stream",
     "text": [
      "PASSED (in 0.15 [ms])\n"
     ]
    }
   ],
   "source": [
    "test_single_case(part_2_solution, 8, test_input)"
   ]
  },
  {
   "cell_type": "code",
   "execution_count": 27,
   "metadata": {},
   "outputs": [
    {
     "name": "stdout",
     "output_type": "stream",
     "text": [
      "Part 2 solution: 1089\n",
      "CPU times: user 241 ms, sys: 0 ns, total: 241 ms\n",
      "Wall time: 237 ms\n"
     ]
    }
   ],
   "source": [
    "%%time\n",
    "print(f\"Part 2 solution: {part_2_solution(puzzle_data)}\")"
   ]
  },
  {
   "cell_type": "code",
   "execution_count": null,
   "metadata": {},
   "outputs": [],
   "source": []
  }
 ],
 "metadata": {
  "kernelspec": {
   "display_name": "Python 3",
   "language": "python",
   "name": "python3"
  },
  "language_info": {
   "codemirror_mode": {
    "name": "ipython",
    "version": 3
   },
   "file_extension": ".py",
   "mimetype": "text/x-python",
   "name": "python",
   "nbconvert_exporter": "python",
   "pygments_lexer": "ipython3",
   "version": "3.8.5"
  }
 },
 "nbformat": 4,
 "nbformat_minor": 4
}
