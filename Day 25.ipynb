{
 "cells": [
  {
   "cell_type": "code",
   "execution_count": 29,
   "metadata": {},
   "outputs": [],
   "source": [
    "with open('inputs/Day_25.txt', 'r') as f:\n",
    "    puzzle_input = f.read()\n",
    "\n",
    "    \n",
    "def part_1_solution(raw_input):\n",
    "    card_public_key, door_public_key = [int(raw_key) for raw_key in raw_input.splitlines()]\n",
    "    \n",
    "    card_loop_size = find_loop_size(card_public_key)\n",
    "    \n",
    "    return transform(door_public_key, card_loop_size)\n",
    "\n",
    "\n",
    "def find_loop_size(public_key):\n",
    "    candidate_loop_size = 1\n",
    "    while transform(7, candidate_loop_size) != public_key:\n",
    "        candidate_loop_size += 1\n",
    "    return candidate_loop_size\n",
    "\n",
    "\n",
    "def transform(subject_number, loop_size):\n",
    "#     value = 1\n",
    "#     for _ in range(loop_size):\n",
    "#         value *= subject_number\n",
    "#         value = value % 20201227        \n",
    "#     return value\n",
    "    return pow(subject_number, loop_size, 20201227)"
   ]
  },
  {
   "cell_type": "code",
   "execution_count": 30,
   "metadata": {},
   "outputs": [
    {
     "name": "stdout",
     "output_type": "stream",
     "text": [
      "PASSED (in 0.02 [ms])\n"
     ]
    }
   ],
   "source": [
    "from helpers import test_single_case\n",
    "\n",
    "test_input = \"\"\"\\\n",
    "5764801\n",
    "17807724\\\n",
    "\"\"\"\n",
    "\n",
    "test_single_case(part_1_solution, 14897079, test_input)"
   ]
  },
  {
   "cell_type": "code",
   "execution_count": 31,
   "metadata": {},
   "outputs": [
    {
     "name": "stdout",
     "output_type": "stream",
     "text": [
      "Part 1 solution: 4441893\n",
      "CPU times: user 23.6 s, sys: 9.98 ms, total: 23.7 s\n",
      "Wall time: 23.6 s\n"
     ]
    }
   ],
   "source": [
    "%%time\n",
    "print(f\"Part 1 solution: {part_1_solution(puzzle_input)}\")"
   ]
  },
  {
   "cell_type": "code",
   "execution_count": null,
   "metadata": {},
   "outputs": [],
   "source": []
  }
 ],
 "metadata": {
  "kernelspec": {
   "display_name": "Python 3",
   "language": "python",
   "name": "python3"
  },
  "language_info": {
   "codemirror_mode": {
    "name": "ipython",
    "version": 3
   },
   "file_extension": ".py",
   "mimetype": "text/x-python",
   "name": "python",
   "nbconvert_exporter": "python",
   "pygments_lexer": "ipython3",
   "version": "3.8.5"
  }
 },
 "nbformat": 4,
 "nbformat_minor": 4
}
