{
 "cells": [
  {
   "cell_type": "code",
   "execution_count": 14,
   "metadata": {},
   "outputs": [],
   "source": [
    "with open(\"inputs/Day_22.txt\") as f:\n",
    "    puzzle_data = f.read()\n",
    "    \n",
    "    \n",
    "def part_1_solution(raw_data):\n",
    "    player_a_deck, player_b_deck = parse_decks(raw_data)\n",
    "    \n",
    "    winning_deck = simulate_game(player_a_deck, player_b_deck)\n",
    "    \n",
    "    winning_score = 0\n",
    "    multiplier = 1\n",
    "    \n",
    "    while winning_deck:\n",
    "        card = winning_deck.pop()\n",
    "        winning_score += multiplier * card\n",
    "        multiplier += 1\n",
    "    \n",
    "    return winning_score\n",
    "\n",
    "    \n",
    "def parse_decks(raw_input):\n",
    "    raw_first_deck, raw_second_deck = raw_input.split('\\n\\n')\n",
    "    first_deck = [int(raw_card) for raw_card in raw_first_deck.splitlines()[1:]]\n",
    "    second_deck = [int(raw_card) for raw_card in raw_second_deck.splitlines()[1:]]\n",
    "    \n",
    "    return first_deck, second_deck\n",
    "\n",
    "def simulate_game(player_a_deck, player_b_deck):\n",
    "    rounds_cnt = 0\n",
    "    \n",
    "    while True:\n",
    "        if not player_a_deck:\n",
    "            return player_b_deck\n",
    "        \n",
    "        if not player_b_deck:\n",
    "            return player_a_deck\n",
    "        \n",
    "        player_a_card = player_a_deck.pop(0)\n",
    "        player_b_card = player_b_deck.pop(0)\n",
    "        \n",
    "        assert player_a_card != player_b_card\n",
    "        \n",
    "        if player_a_card > player_b_card:\n",
    "            # a wins this round\n",
    "            player_a_deck.append(player_a_card)\n",
    "            player_a_deck.append(player_b_card)\n",
    "        else:\n",
    "            # b wins this round\n",
    "            player_b_deck.append(player_b_card)\n",
    "            player_b_deck.append(player_a_card)\n",
    "        \n",
    "        rounds_cnt += 1"
   ]
  },
  {
   "cell_type": "code",
   "execution_count": 15,
   "metadata": {},
   "outputs": [
    {
     "name": "stdout",
     "output_type": "stream",
     "text": [
      "PASSED (in 0.02 [ms])\n"
     ]
    }
   ],
   "source": [
    "from helpers import test_single_case\n",
    "\n",
    "test_input = \"\"\"\\\n",
    "Player 1:\n",
    "9\n",
    "2\n",
    "6\n",
    "3\n",
    "1\n",
    "\n",
    "Player 2:\n",
    "5\n",
    "8\n",
    "4\n",
    "7\n",
    "10\\\n",
    "\"\"\"\n",
    "\n",
    "test_single_case(part_1_solution, 306, test_input)"
   ]
  },
  {
   "cell_type": "code",
   "execution_count": 16,
   "metadata": {},
   "outputs": [
    {
     "name": "stdout",
     "output_type": "stream",
     "text": [
      "Part 1 solution: 33631\n",
      "CPU times: user 307 µs, sys: 29 µs, total: 336 µs\n",
      "Wall time: 233 µs\n"
     ]
    }
   ],
   "source": [
    "%%time\n",
    "print(f\"Part 1 solution: {part_1_solution(puzzle_data)}\")"
   ]
  },
  {
   "cell_type": "code",
   "execution_count": 35,
   "metadata": {},
   "outputs": [],
   "source": [
    "with open(\"inputs/Day_22.txt\") as f:\n",
    "    puzzle_data = f.read()\n",
    "    \n",
    "    \n",
    "def part_2_solution(raw_data):\n",
    "    player_a_deck, player_b_deck = parse_decks(raw_data)\n",
    "    \n",
    "    _, winning_deck = simulate_game(player_a_deck, player_b_deck)\n",
    "    \n",
    "    winning_score = 0\n",
    "    multiplier = 1\n",
    "    \n",
    "    while winning_deck:\n",
    "        card = winning_deck.pop()\n",
    "        winning_score += multiplier * card\n",
    "        multiplier += 1\n",
    "    \n",
    "    return winning_score\n",
    "\n",
    "    \n",
    "def parse_decks(raw_input):\n",
    "    raw_first_deck, raw_second_deck = raw_input.split('\\n\\n')\n",
    "    first_deck = [int(raw_card) for raw_card in raw_first_deck.splitlines()[1:]]\n",
    "    second_deck = [int(raw_card) for raw_card in raw_second_deck.splitlines()[1:]]\n",
    "    \n",
    "    return first_deck, second_deck\n",
    "\n",
    "\n",
    "SEEN_GAMES = dict()\n",
    "\n",
    "\n",
    "def simulate_game(player_a_deck, player_b_deck):\n",
    "    current_game = tuple(player_a_deck), tuple(player_b_deck)\n",
    "    \n",
    "    if current_game in SEEN_GAMES:\n",
    "        return SEEN_GAMES[current_game]\n",
    "    \n",
    "    visited_player_a_decks = set()\n",
    "    visited_player_b_decks = set()\n",
    "    \n",
    "    winning_player = None\n",
    "    winning_deck = None\n",
    "    \n",
    "    while True:\n",
    "        if not player_a_deck:\n",
    "            winning_player = \"player b\"\n",
    "            winning_deck = player_b_deck\n",
    "            break\n",
    "        \n",
    "        if not player_b_deck:\n",
    "            winning_player = \"player a\"\n",
    "            winning_deck = player_a_deck\n",
    "            break\n",
    "        \n",
    "        player_a_deck_tuple = tuple(player_a_deck)\n",
    "        if player_a_deck_tuple in visited_player_a_decks:\n",
    "            winning_player = \"player a\"\n",
    "            winning_deck = player_a_deck\n",
    "            break\n",
    "        visited_player_a_decks.add(player_a_deck_tuple)\n",
    "        \n",
    "        player_b_deck_tuple = tuple(player_b_deck)\n",
    "        if player_b_deck_tuple in visited_player_b_decks:\n",
    "            winning_player = \"player a\"\n",
    "            winning_deck = player_a_deck\n",
    "            break\n",
    "            \n",
    "        visited_player_b_decks.add(player_b_deck_tuple)\n",
    "        \n",
    "        player_a_card = player_a_deck.pop(0)\n",
    "        player_b_card = player_b_deck.pop(0)\n",
    "        \n",
    "        assert player_a_card != player_b_card\n",
    "        \n",
    "        if len(player_a_deck) >= player_a_card and len(player_b_deck) >= player_b_card:\n",
    "            sub_game_winner, _ = simulate_game(player_a_deck[:player_a_card], player_b_deck[:player_b_card])\n",
    "        \n",
    "            if sub_game_winner == \"player a\":\n",
    "                player_a_deck.append(player_a_card)\n",
    "                player_a_deck.append(player_b_card)\n",
    "            else:\n",
    "                player_b_deck.append(player_b_card)\n",
    "                player_b_deck.append(player_a_card)\n",
    "                \n",
    "            continue\n",
    "        \n",
    "        if player_a_card > player_b_card:\n",
    "            # a wins this round\n",
    "            player_a_deck.append(player_a_card)\n",
    "            player_a_deck.append(player_b_card)\n",
    "        else:\n",
    "            # b wins this round\n",
    "            player_b_deck.append(player_b_card)\n",
    "            player_b_deck.append(player_a_card)\n",
    "    \n",
    "    SEEN_GAMES[current_game] = winning_player, winning_deck\n",
    "    \n",
    "    return winning_player, winning_deck"
   ]
  },
  {
   "cell_type": "code",
   "execution_count": 36,
   "metadata": {},
   "outputs": [
    {
     "name": "stdout",
     "output_type": "stream",
     "text": [
      "PASSED (in 0.05 [ms])\n"
     ]
    }
   ],
   "source": [
    "from helpers import test_single_case\n",
    "\n",
    "test_input = \"\"\"\\\n",
    "Player 1:\n",
    "9\n",
    "2\n",
    "6\n",
    "3\n",
    "1\n",
    "\n",
    "Player 2:\n",
    "5\n",
    "8\n",
    "4\n",
    "7\n",
    "10\\\n",
    "\"\"\"\n",
    "\n",
    "test_single_case(part_2_solution, 291, test_input)"
   ]
  },
  {
   "cell_type": "code",
   "execution_count": 37,
   "metadata": {},
   "outputs": [
    {
     "name": "stdout",
     "output_type": "stream",
     "text": [
      "Part 2 solution: 33469\n",
      "CPU times: user 89.7 ms, sys: 0 ns, total: 89.7 ms\n",
      "Wall time: 86.9 ms\n"
     ]
    }
   ],
   "source": [
    "%%time\n",
    "print(f\"Part 2 solution: {part_2_solution(puzzle_data)}\")"
   ]
  },
  {
   "cell_type": "code",
   "execution_count": null,
   "metadata": {},
   "outputs": [],
   "source": []
  }
 ],
 "metadata": {
  "kernelspec": {
   "display_name": "Python 3",
   "language": "python",
   "name": "python3"
  },
  "language_info": {
   "codemirror_mode": {
    "name": "ipython",
    "version": 3
   },
   "file_extension": ".py",
   "mimetype": "text/x-python",
   "name": "python",
   "nbconvert_exporter": "python",
   "pygments_lexer": "ipython3",
   "version": "3.8.5"
  }
 },
 "nbformat": 4,
 "nbformat_minor": 4
}
