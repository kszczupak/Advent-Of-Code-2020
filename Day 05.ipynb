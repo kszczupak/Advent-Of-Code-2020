{
 "cells": [
  {
   "cell_type": "code",
   "execution_count": 24,
   "metadata": {},
   "outputs": [],
   "source": [
    "\n",
    "with open(\"inputs/Day_05.txt\") as f:\n",
    "    puzzle_data = f.read()\n",
    "    \n",
    "    \n",
    "def part_1_solution(raw_data):\n",
    "    max_seat_id = 0\n",
    "\n",
    "    for raw_code in raw_data.split(\"\\n\"):\n",
    "        seat_id = find_seat_id(raw_code)\n",
    "        max_seat_id = max(seat_id, max_seat_id)\n",
    "        \n",
    "    return max_seat_id\n",
    "        \n",
    "def find_seat_id(raw_code):\n",
    "    row_code = raw_code[:-3]\n",
    "    column_code = raw_code[-3:]\n",
    "    row = find_row_number(row_code)\n",
    "    column = find_column_number(column_code)\n",
    "    \n",
    "    return row * 8 + column\n",
    "\n",
    "def find_row_number(row_code):\n",
    "    min_range = 0\n",
    "    max_range = 127\n",
    "    \n",
    "    for current_char in row_code:\n",
    "        current_range_length = (max_range - min_range + 1)\n",
    "        if current_char == \"F\":\n",
    "            max_range -= current_range_length//2\n",
    "        elif current_char == \"B\":\n",
    "            min_range += current_range_length//2\n",
    "#         print(min_range, max_range)\n",
    "        \n",
    "    assert(min_range == max_range)\n",
    "    \n",
    "    return min_range\n",
    "\n",
    "def find_column_number(column_code):\n",
    "    min_range = 0\n",
    "    max_range = 7\n",
    "    \n",
    "    for current_char in column_code:\n",
    "        current_range_length = (max_range - min_range + 1)\n",
    "        if current_char == \"L\":\n",
    "            max_range -= current_range_length//2\n",
    "        elif current_char == \"R\":\n",
    "            min_range += current_range_length//2\n",
    "#         print(min_range, max_range)\n",
    "        \n",
    "    assert(min_range == max_range)\n",
    "    \n",
    "    return min_range"
   ]
  },
  {
   "cell_type": "code",
   "execution_count": 25,
   "metadata": {},
   "outputs": [
    {
     "name": "stdout",
     "output_type": "stream",
     "text": [
      "Test passed\n"
     ]
    }
   ],
   "source": [
    "assert(find_seat_id(\"FBFBBFFRLR\") == 357)\n",
    "assert(find_seat_id(\"BFFFBBFRRR\") == 567)\n",
    "assert(find_seat_id(\"FFFBBBFRRR\") == 119)\n",
    "assert(find_seat_id(\"BBFFBBFRLL\") == 820)\n",
    "print(\"Test passed\")"
   ]
  },
  {
   "cell_type": "code",
   "execution_count": 26,
   "metadata": {},
   "outputs": [
    {
     "name": "stdout",
     "output_type": "stream",
     "text": [
      "Part 1 solution: 885\n"
     ]
    }
   ],
   "source": [
    "print(f\"Part 1 solution: {part_1_solution(puzzle_data)}\")"
   ]
  },
  {
   "cell_type": "code",
   "execution_count": 30,
   "metadata": {},
   "outputs": [],
   "source": [
    "\n",
    "with open(\"inputs/Day_05.txt\") as f:\n",
    "    puzzle_data = f.read()\n",
    "    \n",
    "    \n",
    "def part_2_solution(raw_data):\n",
    "    taken_seats = set()\n",
    "\n",
    "    for raw_code in raw_data.split(\"\\n\"):\n",
    "        seat_id = find_seat_id(raw_code)\n",
    "        taken_seats.add(seat_id)\n",
    "        \n",
    "    all_seats = set(range(min(taken_seats), max(taken_seats)))\n",
    "    my_seat = all_seats - taken_seats\n",
    "    \n",
    "    return my_seat.pop()\n"
   ]
  },
  {
   "cell_type": "code",
   "execution_count": 31,
   "metadata": {},
   "outputs": [
    {
     "name": "stdout",
     "output_type": "stream",
     "text": [
      "Part 2 solution: 623\n"
     ]
    }
   ],
   "source": [
    "print(f\"Part 2 solution: {part_2_solution(puzzle_data)}\")"
   ]
  }
 ],
 "metadata": {
  "kernelspec": {
   "display_name": "Python 3",
   "language": "python",
   "name": "python3"
  },
  "language_info": {
   "codemirror_mode": {
    "name": "ipython",
    "version": 3
   },
   "file_extension": ".py",
   "mimetype": "text/x-python",
   "name": "python",
   "nbconvert_exporter": "python",
   "pygments_lexer": "ipython3",
   "version": "3.8.5"
  }
 },
 "nbformat": 4,
 "nbformat_minor": 4
}
