{
 "cells": [
  {
   "cell_type": "code",
   "execution_count": 27,
   "metadata": {},
   "outputs": [],
   "source": [
    "import re\n",
    "from collections import Counter\n",
    "\n",
    "with open(\"inputs/Day_02.txt\") as f:\n",
    "    puzzle_data = f.read()\n",
    "    \n",
    "def part_1_solution(raw_data):\n",
    "    valid_passwords = 0\n",
    "    \n",
    "    for raw_policy in raw_data.split(\"\\n\"):\n",
    "        parsed_policy = parse_policy(raw_policy)\n",
    "#         print(parsed_policy)\n",
    "        \n",
    "        counted_password = Counter(parsed_policy['password'])\n",
    "        \n",
    "        if counted_password[parsed_policy[\"letter\"]] in range(parsed_policy[\"min\"], parsed_policy[\"max\"] + 1):\n",
    "            valid_passwords += 1\n",
    "            \n",
    "    return valid_passwords\n",
    "\n",
    "def parse_policy(raw_policy):\n",
    "#     print(raw_policy)\n",
    "    match = re.search(r\"(\\d+)-(\\d+)\\s+(\\S):\\s+(\\w+)\", raw_policy)\n",
    "    \n",
    "    return {\n",
    "        \"min\": int(match.group(1)),\n",
    "        \"max\": int(match.group(2)),\n",
    "        \"letter\": match.group(3),\n",
    "        \"password\": match.group(4)\n",
    "    }"
   ]
  },
  {
   "cell_type": "code",
   "execution_count": 28,
   "metadata": {},
   "outputs": [
    {
     "name": "stdout",
     "output_type": "stream",
     "text": [
      "Part 1 solution: 660\n"
     ]
    }
   ],
   "source": [
    "print(f\"Part 1 solution: {part_1_solution(puzzle_data)}\")"
   ]
  },
  {
   "cell_type": "code",
   "execution_count": 35,
   "metadata": {},
   "outputs": [],
   "source": [
    "import re\n",
    "from operator import xor\n",
    "\n",
    "with open(\"inputs/Day_02.txt\") as f:\n",
    "    puzzle_data = f.read()\n",
    "    \n",
    "def part_2_solution(raw_data):\n",
    "    valid_passwords = 0\n",
    "    \n",
    "    for raw_policy in raw_data.split(\"\\n\"):\n",
    "        parsed_policy = parse_policy(raw_policy)\n",
    "#         print(parsed_policy)\n",
    "        \n",
    "        first_equals = parsed_policy['password'][parsed_policy['first'] - 1] == parsed_policy[\"letter\"]\n",
    "        second_equals = parsed_policy['password'][parsed_policy['second'] - 1] == parsed_policy[\"letter\"]\n",
    "        \n",
    "        if xor(first_equals, second_equals):\n",
    "            valid_passwords += 1\n",
    "            \n",
    "    return valid_passwords\n",
    "\n",
    "def parse_policy(raw_policy):\n",
    "#     print(raw_policy)\n",
    "    match = re.search(r\"(\\d+)-(\\d+)\\s+(\\S):\\s+(\\w+)\", raw_policy)\n",
    "    \n",
    "    return {\n",
    "        \"first\": int(match.group(1)),\n",
    "        \"second\": int(match.group(2)),\n",
    "        \"letter\": match.group(3),\n",
    "        \"password\": match.group(4)\n",
    "    }"
   ]
  },
  {
   "cell_type": "code",
   "execution_count": 36,
   "metadata": {},
   "outputs": [
    {
     "name": "stdout",
     "output_type": "stream",
     "text": [
      "Part 2 solution: 530\n"
     ]
    }
   ],
   "source": [
    "print(f\"Part 2 solution: {part_2_solution(puzzle_data)}\")"
   ]
  },
  {
   "cell_type": "code",
   "execution_count": null,
   "metadata": {},
   "outputs": [],
   "source": []
  }
 ],
 "metadata": {
  "kernelspec": {
   "display_name": "Python 3",
   "language": "python",
   "name": "python3"
  },
  "language_info": {
   "codemirror_mode": {
    "name": "ipython",
    "version": 3
   },
   "file_extension": ".py",
   "mimetype": "text/x-python",
   "name": "python",
   "nbconvert_exporter": "python",
   "pygments_lexer": "ipython3",
   "version": "3.8.5"
  }
 },
 "nbformat": 4,
 "nbformat_minor": 4
}
