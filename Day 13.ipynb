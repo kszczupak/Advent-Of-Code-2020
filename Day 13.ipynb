{
 "cells": [
  {
   "cell_type": "code",
   "execution_count": 46,
   "metadata": {},
   "outputs": [],
   "source": [
    "import math\n",
    "\n",
    "with open(\"inputs/Day_13.txt\") as f:\n",
    "    puzzle_data = f.read()\n",
    "    \n",
    "    \n",
    "def part_1_solution(raw_data):\n",
    "    raw_arrival_timestamp, raw_buses = raw_data.splitlines()\n",
    "    arrival_timestamp = int(raw_arrival_timestamp)\n",
    "    buses = [int(bus) for bus in raw_buses.split(',') if bus != 'x']\n",
    "    \n",
    "    closest_bus = None\n",
    "    closest_arrival_timestamp = math.inf\n",
    "    \n",
    "    for bus_id in buses:\n",
    "        bus_arrival_time = (arrival_timestamp // bus_id + 1) * bus_id\n",
    "        \n",
    "        if bus_arrival_time < closest_arrival_timestamp:\n",
    "            closest_arrival_timestamp = bus_arrival_time\n",
    "            closest_bus = bus_id\n",
    "        \n",
    "    return (closest_arrival_timestamp - arrival_timestamp) * closest_bus"
   ]
  },
  {
   "cell_type": "code",
   "execution_count": 47,
   "metadata": {},
   "outputs": [
    {
     "name": "stdout",
     "output_type": "stream",
     "text": [
      "PASSED (in 0.01 [ms])\n"
     ]
    }
   ],
   "source": [
    "from helpers import test_single_case\n",
    "\n",
    "test_input = \"\"\"\\\n",
    "939\n",
    "7,13,x,x,59,x,31,19\\\n",
    "\"\"\"\n",
    "test_single_case(part_1_solution, 295, test_input)"
   ]
  },
  {
   "cell_type": "code",
   "execution_count": 48,
   "metadata": {},
   "outputs": [
    {
     "name": "stdout",
     "output_type": "stream",
     "text": [
      "Part 1 solution: 296\n",
      "CPU times: user 98 µs, sys: 5 µs, total: 103 µs\n",
      "Wall time: 104 µs\n"
     ]
    }
   ],
   "source": [
    "%%time\n",
    "print(f\"Part 1 solution: {part_1_solution(puzzle_data)}\")"
   ]
  },
  {
   "cell_type": "code",
   "execution_count": 26,
   "metadata": {},
   "outputs": [
    {
     "name": "stdout",
     "output_type": "stream",
     "text": [
      "candidate_solution=475398\n",
      "counter=8\n"
     ]
    }
   ],
   "source": [
    "first_number = 52822\n",
    "second_number = 19\n",
    "candidate_solution = first_number\n",
    "counter = 0\n",
    "while True:\n",
    "    if (candidate_solution + 1) % second_number == 0: \n",
    "        print(f\"{candidate_solution=}\")\n",
    "        print(f\"{counter=}\")\n",
    "        break\n",
    "    counter += 1\n",
    "    candidate_solution += first_number"
   ]
  },
  {
   "cell_type": "code",
   "execution_count": 50,
   "metadata": {},
   "outputs": [],
   "source": [
    "def part_2_solution(raw_data):\n",
    "    _, raw_buses = raw_data.splitlines()\n",
    "    \n",
    "    return part_2_for_raw_buses(raw_buses)\n",
    "\n",
    "def part_2_for_raw_buses(raw_buses):\n",
    "    ans = 0\n",
    "    mod = 1\n",
    "\n",
    "    for index, value in enumerate(raw_buses.split(',')):\n",
    "        if value == 'x':\n",
    "            continue\n",
    "            \n",
    "        value = int(value)\n",
    "        \n",
    "        while (ans + index) % value != 0:\n",
    "            ans += mod\n",
    "        mod *= value\n",
    "        \n",
    "    return ans"
   ]
  },
  {
   "cell_type": "code",
   "execution_count": 51,
   "metadata": {},
   "outputs": [
    {
     "name": "stdout",
     "output_type": "stream",
     "text": [
      "Case #0: PASSED (0.02 [ms])\n",
      "Case #1: PASSED (0.01 [ms])\n",
      "Case #2: PASSED (0.01 [ms])\n",
      "Case #3: PASSED (0.01 [ms])\n",
      "Case #4: PASSED (0.02 [ms])\n",
      "Case #5: PASSED (0.07 [ms])\n",
      "========================================\n",
      "All tests passed; Elapsed time: 1.72 [ms]\n"
     ]
    }
   ],
   "source": [
    "from helpers import test_multiple_cases\n",
    "\n",
    "test_multiple_cases(\n",
    "    part_2_for_raw_buses,\n",
    "    (\n",
    "        (1068781, \"7,13,x,x,59,x,31,19\"),\n",
    "        (3417, \"17,x,13,19\"),\n",
    "        (754018, \"67,7,59,61\"),\n",
    "        (779210, \"67,x,7,59,61\"),\n",
    "        (1261476, \"67,7,x,59,61\"),\n",
    "        (1202161486, \"1789,37,47,1889\")\n",
    "    )\n",
    ")"
   ]
  },
  {
   "cell_type": "code",
   "execution_count": 53,
   "metadata": {},
   "outputs": [
    {
     "name": "stdout",
     "output_type": "stream",
     "text": [
      "Part 2 solution: 535296695251210\n",
      "CPU times: user 151 µs, sys: 7 µs, total: 158 µs\n",
      "Wall time: 160 µs\n"
     ]
    }
   ],
   "source": [
    "%%time\n",
    "print(f\"Part 2 solution: {part_2_solution(puzzle_data)}\")"
   ]
  },
  {
   "cell_type": "code",
   "execution_count": null,
   "metadata": {},
   "outputs": [],
   "source": []
  }
 ],
 "metadata": {
  "kernelspec": {
   "display_name": "Python 3",
   "language": "python",
   "name": "python3"
  },
  "language_info": {
   "codemirror_mode": {
    "name": "ipython",
    "version": 3
   },
   "file_extension": ".py",
   "mimetype": "text/x-python",
   "name": "python",
   "nbconvert_exporter": "python",
   "pygments_lexer": "ipython3",
   "version": "3.8.5"
  }
 },
 "nbformat": 4,
 "nbformat_minor": 4
}
