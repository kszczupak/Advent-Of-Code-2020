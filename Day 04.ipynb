{
 "cells": [
  {
   "cell_type": "code",
   "execution_count": 2,
   "metadata": {},
   "outputs": [],
   "source": [
    "\n",
    "with open(\"inputs/Day_04.txt\") as f:\n",
    "    puzzle_data = f.read()\n",
    "    \n",
    "def part_1_solution(raw_data):\n",
    "    expected_fields = [\n",
    "        \"byr:\", \"iyr:\", \"eyr:\", \"hgt:\", \"hcl:\", \"ecl:\", \"pid:\"\n",
    "    ]\n",
    "\n",
    "    valid_passwords = 0\n",
    "    for raw_password in raw_data.split('\\n\\n'):\n",
    "        if all(field in raw_password for field in expected_fields):\n",
    "            valid_passwords += 1\n",
    "    \n",
    "    return valid_passwords\n"
   ]
  },
  {
   "cell_type": "code",
   "execution_count": 15,
   "metadata": {},
   "outputs": [
    {
     "name": "stdout",
     "output_type": "stream",
     "text": [
      "Test passed\n"
     ]
    }
   ],
   "source": [
    "test_input = \"\"\"ecl:gry pid:860033327 eyr:2020 hcl:#fffffd\n",
    "byr:1937 iyr:2017 cid:147 hgt:183cm\n",
    "\n",
    "iyr:2013 ecl:amb cid:350 eyr:2023 pid:028048884\n",
    "hcl:#cfa07d byr:1929\n",
    "\n",
    "hcl:#ae17e1 iyr:2013\n",
    "eyr:2024\n",
    "ecl:brn pid:760753108 byr:1931\n",
    "hgt:179cm\n",
    "\n",
    "hcl:#cfa07d eyr:2025 pid:166559648\n",
    "iyr:2011 ecl:brn hgt:59in\"\"\"\n",
    "\n",
    "assert(part_1_solution(test_input) == 2)\n",
    "print(\"Test passed\")"
   ]
  },
  {
   "cell_type": "code",
   "execution_count": 16,
   "metadata": {},
   "outputs": [
    {
     "name": "stdout",
     "output_type": "stream",
     "text": [
      "Part 1 solution: 250\n"
     ]
    }
   ],
   "source": [
    "print(f\"Part 1 solution: {part_1_solution(puzzle_data)}\")"
   ]
  },
  {
   "cell_type": "code",
   "execution_count": 1,
   "metadata": {},
   "outputs": [],
   "source": [
    "import re\n",
    "\n",
    "def part_2_solution(raw_data):\n",
    "    valid_passwords = 0\n",
    "    for raw_password in raw_data.split('\\n\\n'):\n",
    "        try:\n",
    "            password = parse_password(raw_password)\n",
    "            if is_password_valid(password):\n",
    "                valid_passwords += 1\n",
    "        except:\n",
    "            pass\n",
    "    \n",
    "    return valid_passwords\n",
    "\n",
    "def parse_password(raw_password):\n",
    "    parsed_password = dict()\n",
    "    raw_password = raw_password.replace('\\n', ' ')\n",
    "    for raw_field in raw_password.split(' '):\n",
    "        field_name, field_value = raw_field.strip().split(':')\n",
    "        parsed_password[field_name] = field_value\n",
    "        \n",
    "    return parsed_password\n",
    "\n",
    "def is_password_valid(password):\n",
    "    expected_fields = [\n",
    "        \"byr\", \"iyr\", \"eyr\", \"hgt\", \"hcl\", \"ecl\", \"pid\"\n",
    "    ]\n",
    "    \n",
    "    if not all(field in password for field in expected_fields):\n",
    "            return False\n",
    "        \n",
    "    byr = int(password['byr'])\n",
    "    if byr < 1920 or byr > 2002:\n",
    "        return False\n",
    "    \n",
    "    iyr = int(password['iyr'])\n",
    "    if iyr < 2010 or iyr > 2020:\n",
    "        return False\n",
    "    \n",
    "    eyr = int(password['eyr'])\n",
    "    if eyr < 2020 or eyr > 2030:\n",
    "        return False\n",
    "    \n",
    "    hgt = password['hgt']\n",
    "    height = int(hgt[:-2])\n",
    "    \n",
    "    if \"cm\" in hgt:\n",
    "        if height < 150 or height > 193:\n",
    "            return False\n",
    "    elif \"in\" in hgt:\n",
    "        if height < 59 or height > 76:\n",
    "            return False\n",
    "    else:\n",
    "        return False\n",
    "    \n",
    "    hcl_match = re.match(r'#([0-9]|[a-f]){6}$', password['hcl'])\n",
    "    \n",
    "    if not hcl_match:\n",
    "        return False\n",
    "    \n",
    "    ecl_match = re.match(r'(amb|blu|brn|gry|grn|hzl|oth)$', password['ecl'])\n",
    "    \n",
    "    if not ecl_match:\n",
    "        return False\n",
    "    \n",
    "    pid_match = re.match(r'\\d{9}$', password['pid'])\n",
    "    \n",
    "    if not pid_match:\n",
    "        return False\n",
    "    \n",
    "    return True"
   ]
  },
  {
   "cell_type": "code",
   "execution_count": 2,
   "metadata": {},
   "outputs": [
    {
     "name": "stdout",
     "output_type": "stream",
     "text": [
      "Case #0: PASSED (0.51 [ms])\n",
      "Case #1: PASSED (0.12 [ms])\n",
      "========================================\n",
      "All tests passed; Elapsed time: 2.25 [ms]\n"
     ]
    }
   ],
   "source": [
    "from helpers import test_multiple_cases\n",
    "\n",
    "invalid_passwords = \"\"\"\\\n",
    "eyr:1972 cid:100\n",
    "hcl:#18171d ecl:amb hgt:170 pid:186cm iyr:2018 byr:1926\n",
    "\n",
    "iyr:2019\n",
    "hcl:#602927 eyr:1967 hgt:170cm\n",
    "ecl:grn pid:012533040 byr:1946\n",
    "\n",
    "hcl:dab227 iyr:2012\n",
    "ecl:brn hgt:182cm pid:021572410 eyr:2020 byr:1992 cid:277\n",
    "\n",
    "hgt:59cm ecl:zzz\n",
    "eyr:2038 hcl:74454a iyr:2023\n",
    "pid:3556412378 byr:2007\n",
    "\n",
    "eyr:2028 byr:2002\n",
    "hgt:70in ecl:gry hcl:#9d58a1 iyr:2010 pid:6290928420\\\n",
    "\"\"\"\n",
    "\n",
    "valid_passwords = \"\"\"\\\n",
    "pid:087499704 hgt:74in ecl:grn iyr:2012 eyr:2030 byr:1980\n",
    "hcl:#623a2f\n",
    "\n",
    "eyr:2029 ecl:blu cid:129 byr:1989\n",
    "iyr:2014 pid:896056539 hcl:#a97842 hgt:165cm\n",
    "\n",
    "hcl:#888785\n",
    "hgt:164cm byr:2001 iyr:2015 cid:88\n",
    "pid:545766238 ecl:hzl\n",
    "eyr:2022\n",
    "\n",
    "iyr:2010 hgt:158cm hcl:#b6652a ecl:blu byr:1944 eyr:2021 pid:093154719\\\n",
    "\"\"\"\n",
    "\n",
    "test_multiple_cases(\n",
    "    part_2_solution,\n",
    "    (\n",
    "        (0, invalid_passwords),\n",
    "        (4, valid_passwords)\n",
    "    )\n",
    ")"
   ]
  },
  {
   "cell_type": "code",
   "execution_count": 80,
   "metadata": {},
   "outputs": [
    {
     "name": "stdout",
     "output_type": "stream",
     "text": [
      "Part 2 solution: 158\n"
     ]
    }
   ],
   "source": [
    "print(f\"Part 2 solution: {part_2_solution(puzzle_data)}\")"
   ]
  },
  {
   "cell_type": "code",
   "execution_count": null,
   "metadata": {},
   "outputs": [],
   "source": []
  }
 ],
 "metadata": {
  "kernelspec": {
   "display_name": "Python 3",
   "language": "python",
   "name": "python3"
  },
  "language_info": {
   "codemirror_mode": {
    "name": "ipython",
    "version": 3
   },
   "file_extension": ".py",
   "mimetype": "text/x-python",
   "name": "python",
   "nbconvert_exporter": "python",
   "pygments_lexer": "ipython3",
   "version": "3.8.5"
  }
 },
 "nbformat": 4,
 "nbformat_minor": 4
}
