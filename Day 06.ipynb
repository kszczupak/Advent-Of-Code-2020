{
 "cells": [
  {
   "cell_type": "code",
   "execution_count": 26,
   "metadata": {},
   "outputs": [],
   "source": [
    "\n",
    "with open(\"inputs/Day_06.txt\") as f:\n",
    "    puzzle_data = f.read()\n",
    "    \n",
    "    \n",
    "def part_1_solution(raw_data):\n",
    "    answers_count = 0\n",
    "\n",
    "    for group_answers in raw_data.split(\"\\n\\n\"):\n",
    "        unique_answers = set()\n",
    "#         breakpoint()\n",
    "        for person_answers in group_answers.split(\"\\n\"):\n",
    "            unique_answers |= set(person_answers)\n",
    "        \n",
    "        answers_count += len(unique_answers)\n",
    "        \n",
    "    return answers_count\n",
    "        "
   ]
  },
  {
   "cell_type": "code",
   "execution_count": 28,
   "metadata": {},
   "outputs": [
    {
     "name": "stdout",
     "output_type": "stream",
     "text": [
      "Test passed\n"
     ]
    }
   ],
   "source": [
    "test_input = \"\"\"\\\n",
    "abc\n",
    "\n",
    "a\n",
    "b\n",
    "c\n",
    "\n",
    "ab\n",
    "ac\n",
    "\n",
    "a\n",
    "a\n",
    "a\n",
    "a\n",
    "\n",
    "b\\\n",
    "\"\"\"\n",
    "# print(part_1_solution(test_input))\n",
    "assert(part_1_solution(test_input) == 11)\n",
    "print(\"Test passed\")"
   ]
  },
  {
   "cell_type": "code",
   "execution_count": 29,
   "metadata": {},
   "outputs": [
    {
     "name": "stdout",
     "output_type": "stream",
     "text": [
      "Part 1 solution: 6249\n"
     ]
    }
   ],
   "source": [
    "print(f\"Part 1 solution: {part_1_solution(puzzle_data)}\")"
   ]
  },
  {
   "cell_type": "code",
   "execution_count": 35,
   "metadata": {},
   "outputs": [],
   "source": [
    "def part_2_solution(raw_data):\n",
    "    answers_count = 0\n",
    "\n",
    "    for group_answers in raw_data.split(\"\\n\\n\"):\n",
    "        valid_answers = set()\n",
    "        \n",
    "        persons_answers = group_answers.split(\"\\n\")\n",
    "        valid_answers |= set(persons_answers[0])\n",
    "#         breakpoint()\n",
    "        for person_answers in persons_answers[1:]:\n",
    "            \n",
    "            valid_answers &= set(person_answers)\n",
    "        \n",
    "        answers_count += len(valid_answers)\n",
    "        \n",
    "    return answers_count"
   ]
  },
  {
   "cell_type": "code",
   "execution_count": 36,
   "metadata": {},
   "outputs": [
    {
     "name": "stdout",
     "output_type": "stream",
     "text": [
      "Test passed\n"
     ]
    }
   ],
   "source": [
    "assert(part_2_solution(test_input) == 6)\n",
    "print(\"Test passed\")"
   ]
  },
  {
   "cell_type": "code",
   "execution_count": 37,
   "metadata": {},
   "outputs": [
    {
     "name": "stdout",
     "output_type": "stream",
     "text": [
      "Part 2 solution: 3103\n"
     ]
    }
   ],
   "source": [
    "print(f\"Part 2 solution: {part_2_solution(puzzle_data)}\")"
   ]
  }
 ],
 "metadata": {
  "kernelspec": {
   "display_name": "Python 3",
   "language": "python",
   "name": "python3"
  },
  "language_info": {
   "codemirror_mode": {
    "name": "ipython",
    "version": 3
   },
   "file_extension": ".py",
   "mimetype": "text/x-python",
   "name": "python",
   "nbconvert_exporter": "python",
   "pygments_lexer": "ipython3",
   "version": "3.8.5"
  }
 },
 "nbformat": 4,
 "nbformat_minor": 4
}
