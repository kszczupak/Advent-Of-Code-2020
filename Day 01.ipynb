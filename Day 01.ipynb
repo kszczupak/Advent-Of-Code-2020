{
 "cells": [
  {
   "cell_type": "code",
   "execution_count": 10,
   "metadata": {},
   "outputs": [],
   "source": [
    "with open(\"inputs/Day_01.txt\") as f:\n",
    "    puzzle_data = f.read()\n",
    "    \n",
    "def part_1_solution(raw_data):\n",
    "    processed_data = list(map(int, raw_data.split()))\n",
    "    \n",
    "    avalible_numbers = set(processed_data)\n",
    "    \n",
    "    for current_number in processed_data:\n",
    "        needed_number = 2020 - current_number\n",
    "        if needed_number in avalible_numbers:\n",
    "            return needed_number * current_number\n",
    "        \n",
    "    raise Exception(\"2020 sum not found!\")\n",
    "    "
   ]
  },
  {
   "cell_type": "code",
   "execution_count": 11,
   "metadata": {},
   "outputs": [
    {
     "name": "stdout",
     "output_type": "stream",
     "text": [
      "Part 1 solution: 55776\n"
     ]
    }
   ],
   "source": [
    "print(f\"Part 1 solution: {part_1_solution(puzzle_data)}\")"
   ]
  },
  {
   "cell_type": "code",
   "execution_count": 13,
   "metadata": {},
   "outputs": [],
   "source": [
    "def part_2_solution(raw_data):\n",
    "    processed_data = list(map(int, raw_data.split()))\n",
    "    avaliable_numbers = set(processed_data)\n",
    "    \n",
    "    for first_number in processed_data:\n",
    "        for second_number in processed_data:\n",
    "            needed_number = 2020 - first_number - second_number\n",
    "            if needed_number in avaliable_numbers:\n",
    "                return first_number * second_number * needed_number\n",
    "    raise Exception(\"2020 sum not found!\")"
   ]
  },
  {
   "cell_type": "code",
   "execution_count": 14,
   "metadata": {},
   "outputs": [
    {
     "name": "stdout",
     "output_type": "stream",
     "text": [
      "Part 2 solution: 223162626\n"
     ]
    }
   ],
   "source": [
    "print(f\"Part 2 solution: {part_2_solution(puzzle_data)}\")"
   ]
  }
 ],
 "metadata": {
  "kernelspec": {
   "display_name": "Python 3",
   "language": "python",
   "name": "python3"
  },
  "language_info": {
   "codemirror_mode": {
    "name": "ipython",
    "version": 3
   },
   "file_extension": ".py",
   "mimetype": "text/x-python",
   "name": "python",
   "nbconvert_exporter": "python",
   "pygments_lexer": "ipython3",
   "version": "3.8.5"
  }
 },
 "nbformat": 4,
 "nbformat_minor": 4
}
