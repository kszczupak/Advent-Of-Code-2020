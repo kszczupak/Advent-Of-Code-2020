{
 "cells": [
  {
   "cell_type": "code",
   "execution_count": 43,
   "metadata": {},
   "outputs": [],
   "source": [
    "with open(\"inputs/Day_11.txt\") as f:\n",
    "    puzzle_data = f.read()\n",
    "    \n",
    "    \n",
    "def part_1_solution(raw_data):\n",
    "    floor_positions, avaliable_positions = parse_grid(raw_data)\n",
    "    taken_seats = set()\n",
    "    tick_counter = 0\n",
    "    taken_seats_history = set()\n",
    "    \n",
    "    while True:\n",
    "        taken_seats = simulate_single_tick(taken_seats, avaliable_positions)\n",
    "        taken_seats_tuple = tuple(taken_seats)\n",
    "        \n",
    "        if taken_seats_tuple in taken_seats_history:\n",
    "            return len(taken_seats)\n",
    "        \n",
    "        taken_seats_history.add(taken_seats_tuple)\n",
    "        tick_counter += 1\n",
    "    \n",
    "def parse_grid(raw_grid):\n",
    "    floor_positions = set()\n",
    "    avaliable_seats = set()\n",
    "    \n",
    "    for row_idx, row in enumerate(raw_grid.splitlines()):\n",
    "        for column_idx, char in enumerate(row):\n",
    "            current_position = (column_idx, row_idx)\n",
    "            if char == '.':\n",
    "                floor_positions.add(current_position)\n",
    "            elif char == 'L':\n",
    "                avaliable_seats.add(current_position)\n",
    "            else:\n",
    "                raise Exception(f\"Unknown char '{char}' on position {current_position}\")\n",
    "                \n",
    "    return floor_positions, avaliable_seats\n",
    "    \n",
    "    \n",
    "def simulate_single_tick(old_taken_seats, avaliable_seats):\n",
    "    new_taken_seats = set()\n",
    "    \n",
    "    for seat in avaliable_seats:\n",
    "        occupied_neighbours = count_neighbour_taken_seats(seat, old_taken_seats)\n",
    "        \n",
    "        if seat not in old_taken_seats:\n",
    "            if occupied_neighbours == 0:\n",
    "                new_taken_seats.add(seat)\n",
    "        else:\n",
    "            #seat initially taken\n",
    "            if occupied_neighbours < 4:\n",
    "                new_taken_seats.add(seat)\n",
    "    \n",
    "    return new_taken_seats\n",
    "                \n",
    "        \n",
    "def count_neighbour_taken_seats(seat, taken_seats):\n",
    "    count = 0\n",
    "    \n",
    "    for neighbour in get_neighbour_positions(seat):\n",
    "        if neighbour in taken_seats:\n",
    "            count += 1\n",
    "    \n",
    "    return count\n",
    "\n",
    "def get_neighbour_positions(position):\n",
    "    x, y = position\n",
    "    \n",
    "    for x_offset in range(-1, 2):\n",
    "        for y_offset in range(-1, 2):\n",
    "            if x_offset == 0 and y_offset == 0:\n",
    "                continue\n",
    "            yield x + x_offset, y + y_offset"
   ]
  },
  {
   "cell_type": "code",
   "execution_count": 44,
   "metadata": {},
   "outputs": [
    {
     "name": "stdout",
     "output_type": "stream",
     "text": [
      "PASSED (in 1.03 [ms])\n"
     ]
    }
   ],
   "source": [
    "from helpers import test_single_case\n",
    "\n",
    "test_input = \"\"\"\\\n",
    "L.LL.LL.LL\n",
    "LLLLLLL.LL\n",
    "L.L.L..L..\n",
    "LLLL.LL.LL\n",
    "L.LL.LL.LL\n",
    "L.LLLLL.LL\n",
    "..L.L.....\n",
    "LLLLLLLLLL\n",
    "L.LLLLLL.L\n",
    "L.LLLLL.LL\\\n",
    "\"\"\"\n",
    "test_single_case(part_1_solution, 37, test_input)"
   ]
  },
  {
   "cell_type": "code",
   "execution_count": 45,
   "metadata": {},
   "outputs": [
    {
     "name": "stdout",
     "output_type": "stream",
     "text": [
      "Part 1 solution: 2113\n",
      "CPU times: user 1.34 s, sys: 5.14 ms, total: 1.34 s\n",
      "Wall time: 1.34 s\n"
     ]
    }
   ],
   "source": [
    "%%time\n",
    "print(f\"Part 1 solution: {part_1_solution(puzzle_data)}\")"
   ]
  },
  {
   "cell_type": "code",
   "execution_count": 46,
   "metadata": {},
   "outputs": [],
   "source": [
    "with open(\"inputs/Day_11.txt\") as f:\n",
    "    puzzle_data = f.read()\n",
    "    \n",
    "    \n",
    "def part_2_solution(raw_data):\n",
    "    grid = parse_grid(raw_data)\n",
    "    tick_counter = 0\n",
    "    taken_seats_history = set()\n",
    "    \n",
    "    while True:\n",
    "        grid = simulate_single_tick(grid)\n",
    "        taken_seats = tuple(grid['taken_seats'])\n",
    "        \n",
    "        if taken_seats in taken_seats_history:\n",
    "            return len(taken_seats)\n",
    "        \n",
    "        taken_seats_history.add(taken_seats)\n",
    "        tick_counter += 1\n",
    "        \n",
    "    \n",
    "def parse_grid(raw_grid):\n",
    "    grid = {\n",
    "        'floor_positions': set(),\n",
    "        'all_seats': set(),\n",
    "        'taken_seats': set()\n",
    "    }\n",
    "    \n",
    "    for row_idx, row in enumerate(raw_grid.splitlines()):\n",
    "        for column_idx, char in enumerate(row):\n",
    "            current_position = (column_idx, row_idx)\n",
    "    \n",
    "            if char == '.':\n",
    "                grid['floor_positions'].add(current_position)\n",
    "            elif char == 'L':\n",
    "                grid['all_seats'].add(current_position)\n",
    "            else:\n",
    "                raise Exception(f\"Unknown char '{char}' on position {current_position}\")\n",
    "                \n",
    "    return grid\n",
    "    \n",
    "    \n",
    "def simulate_single_tick(grid):\n",
    "    new_taken_seats = set()\n",
    "    \n",
    "    for seat in grid['all_seats']:\n",
    "        occupied_neighbours = count_neighbour_taken_seats(seat, grid)\n",
    "        \n",
    "        if seat not in grid['taken_seats']:\n",
    "            if occupied_neighbours == 0:\n",
    "                new_taken_seats.add(seat)\n",
    "        else:\n",
    "            #seat initially taken\n",
    "            if occupied_neighbours < 5:\n",
    "                new_taken_seats.add(seat)\n",
    "    \n",
    "    grid['taken_seats'] = new_taken_seats\n",
    "    \n",
    "    return grid\n",
    "                \n",
    "        \n",
    "def count_neighbour_taken_seats(seat_position, grid):\n",
    "    count = 0\n",
    "    \n",
    "    for direction in get_directions():\n",
    "        if is_seat_taken_in_direction(seat_position, direction, grid):\n",
    "            count += 1\n",
    "    \n",
    "    return count\n",
    "\n",
    "\n",
    "def get_directions():\n",
    "    for x_offset in range(-1, 2):\n",
    "        for y_offset in range(-1, 2):\n",
    "            if x_offset == 0 and y_offset == 0:\n",
    "                continue\n",
    "                \n",
    "            yield x_offset, y_offset\n",
    "\n",
    "            \n",
    "def is_seat_taken_in_direction(starting_position, direction, grid):\n",
    "    x, y = starting_position\n",
    "    x_offset, y_offset = direction\n",
    "    \n",
    "    while True:\n",
    "        x += x_offset\n",
    "        y += y_offset\n",
    "        \n",
    "        new_position = (x, y)\n",
    "        \n",
    "        if new_position in grid['taken_seats']:\n",
    "            return True\n",
    "        \n",
    "        if new_position in grid['all_seats']:\n",
    "            # position is not taken (but it is a seat)\n",
    "            return False\n",
    "        \n",
    "        if new_position not in grid['floor_positions']:\n",
    "            # position is not on the grid\n",
    "            return False"
   ]
  },
  {
   "cell_type": "code",
   "execution_count": 47,
   "metadata": {},
   "outputs": [
    {
     "name": "stdout",
     "output_type": "stream",
     "text": [
      "PASSED (in 1.88 [ms])\n"
     ]
    }
   ],
   "source": [
    "test_single_case(part_2_solution, 26, test_input)"
   ]
  },
  {
   "cell_type": "code",
   "execution_count": 48,
   "metadata": {},
   "outputs": [
    {
     "name": "stdout",
     "output_type": "stream",
     "text": [
      "Part 2 solution: 1865\n",
      "CPU times: user 2.04 s, sys: 0 ns, total: 2.04 s\n",
      "Wall time: 2.03 s\n"
     ]
    }
   ],
   "source": [
    "%%time\n",
    "print(f\"Part 2 solution: {part_2_solution(puzzle_data)}\")"
   ]
  }
 ],
 "metadata": {
  "kernelspec": {
   "display_name": "Python 3",
   "language": "python",
   "name": "python3"
  },
  "language_info": {
   "codemirror_mode": {
    "name": "ipython",
    "version": 3
   },
   "file_extension": ".py",
   "mimetype": "text/x-python",
   "name": "python",
   "nbconvert_exporter": "python",
   "pygments_lexer": "ipython3",
   "version": "3.8.5"
  }
 },
 "nbformat": 4,
 "nbformat_minor": 4
}
