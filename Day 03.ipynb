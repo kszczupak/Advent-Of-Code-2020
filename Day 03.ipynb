{
 "cells": [
  {
   "cell_type": "code",
   "execution_count": 15,
   "metadata": {},
   "outputs": [],
   "source": [
    "\n",
    "with open(\"inputs/Day_03.txt\") as f:\n",
    "    puzzle_data = f.read()\n",
    "    \n",
    "def part_1_solution(raw_data):\n",
    "    grid, width = parse_grid(raw_data)\n",
    "    trees_cnt = 0\n",
    "#     print(width)\n",
    "#     print(grid)\n",
    "    current_x, current_y = 0, 0\n",
    "    \n",
    "    while True:\n",
    "        if current_y not in grid:\n",
    "            return trees_cnt\n",
    "        \n",
    "        if position_cointains_tree(current_x, current_y, grid, width):\n",
    "            trees_cnt += 1\n",
    "            \n",
    "        current_x += 3\n",
    "        current_y += 1\n",
    "\n",
    "def parse_grid(raw_grid):\n",
    "    grid = dict()\n",
    "    \n",
    "    for line_idx, raw_line in enumerate(raw_grid.split('\\n')):\n",
    "        grid[line_idx] = set()\n",
    "        for char_idx, char in enumerate(raw_line):\n",
    "            if char == '#':\n",
    "                grid[line_idx].add(char_idx)\n",
    "                \n",
    "    grid_width = len(raw_line)\n",
    "    \n",
    "    return grid, grid_width\n",
    "\n",
    "def position_cointains_tree(x, y, grid, width):\n",
    "    x = x % width\n",
    "    \n",
    "    return x in grid[y]"
   ]
  },
  {
   "cell_type": "code",
   "execution_count": 16,
   "metadata": {},
   "outputs": [
    {
     "name": "stdout",
     "output_type": "stream",
     "text": [
      "Test passed\n"
     ]
    }
   ],
   "source": [
    "test_input = \"\"\"..##.......\n",
    "#...#...#..\n",
    ".#....#..#.\n",
    "..#.#...#.#\n",
    ".#...##..#.\n",
    "..#.##.....\n",
    ".#.#.#....#\n",
    ".#........#\n",
    "#.##...#...\n",
    "#...##....#\n",
    ".#..#...#.#\"\"\"\n",
    "\n",
    "assert(part_1_solution(test_input) == 7)\n",
    "print(\"Test passed\")"
   ]
  },
  {
   "cell_type": "code",
   "execution_count": 17,
   "metadata": {},
   "outputs": [
    {
     "name": "stdout",
     "output_type": "stream",
     "text": [
      "Part 1 solution: 145\n"
     ]
    }
   ],
   "source": [
    "print(f\"Part 1 solution: {part_1_solution(puzzle_data)}\")"
   ]
  },
  {
   "cell_type": "code",
   "execution_count": 30,
   "metadata": {},
   "outputs": [],
   "source": [
    "def part_2_solution(raw_data):\n",
    "    grid, width = parse_grid(raw_data)\n",
    "    first_slope_cnt = get_trees_on_slope(1, 1, grid, width)\n",
    "    second_slope_cnt = get_trees_on_slope(3, 1, grid, width)\n",
    "    third_slope_cnt = get_trees_on_slope(5, 1, grid, width)\n",
    "    fourth_slope_cnt = get_trees_on_slope(7, 1, grid, width)\n",
    "    fifth_slope_cnt = get_trees_on_slope(1, 2, grid, width)\n",
    "    \n",
    "    return first_slope_cnt * second_slope_cnt * third_slope_cnt * fourth_slope_cnt * fifth_slope_cnt\n",
    "\n",
    "\n",
    "def get_trees_on_slope(increase_x_by, increase_y_by, grid, width):\n",
    "    trees_cnt = 0\n",
    "\n",
    "    current_x, current_y = 0, 0\n",
    "    \n",
    "    while True:\n",
    "        if current_y not in grid:\n",
    "            return trees_cnt\n",
    "        \n",
    "        if position_cointains_tree(current_x, current_y, grid, width):\n",
    "            trees_cnt += 1\n",
    "            \n",
    "        current_x += increase_x_by\n",
    "        current_y += increase_y_by"
   ]
  },
  {
   "cell_type": "code",
   "execution_count": 31,
   "metadata": {},
   "outputs": [
    {
     "name": "stdout",
     "output_type": "stream",
     "text": [
      "Test passed\n"
     ]
    }
   ],
   "source": [
    "assert(part_2_solution(test_input) == 336)\n",
    "print(\"Test passed\")"
   ]
  },
  {
   "cell_type": "code",
   "execution_count": 32,
   "metadata": {},
   "outputs": [
    {
     "name": "stdout",
     "output_type": "stream",
     "text": [
      "Part 2 solution: 3424528800\n"
     ]
    }
   ],
   "source": [
    "print(f\"Part 2 solution: {part_2_solution(puzzle_data)}\")"
   ]
  },
  {
   "cell_type": "code",
   "execution_count": null,
   "metadata": {},
   "outputs": [],
   "source": []
  }
 ],
 "metadata": {
  "kernelspec": {
   "display_name": "Python 3",
   "language": "python",
   "name": "python3"
  },
  "language_info": {
   "codemirror_mode": {
    "name": "ipython",
    "version": 3
   },
   "file_extension": ".py",
   "mimetype": "text/x-python",
   "name": "python",
   "nbconvert_exporter": "python",
   "pygments_lexer": "ipython3",
   "version": "3.8.5"
  }
 },
 "nbformat": 4,
 "nbformat_minor": 4
}
