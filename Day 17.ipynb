{
 "cells": [
  {
   "cell_type": "code",
   "execution_count": 41,
   "metadata": {},
   "outputs": [],
   "source": [
    "with open(\"inputs/Day_17.txt\") as f:\n",
    "    puzzle_data = f.read()\n",
    "    \n",
    "    \n",
    "def part_1_solution(raw_data):\n",
    "    active_cubes = parse_grid(raw_data)\n",
    "    \n",
    "    for tick in range(6):\n",
    "        active_cubes = simulate_single_tick(active_cubes)\n",
    "\n",
    "    return len(active_cubes)\n",
    "    \n",
    "def parse_grid(raw_grid):\n",
    "    active_cubes = set()\n",
    "    \n",
    "    z = 0\n",
    "    \n",
    "    for row_idx, row in enumerate(raw_grid.splitlines()):\n",
    "        for column_idx, char in enumerate(row):\n",
    "            if char == '#':\n",
    "                current_position = (column_idx, row_idx, z)\n",
    "                active_cubes.add(current_position)\n",
    "                \n",
    "    return active_cubes\n",
    "    \n",
    "    \n",
    "def simulate_single_tick(active_cubes):\n",
    "    new_active_cubes = set()\n",
    "    boarders = get_grid_boarders(active_cubes)\n",
    "    \n",
    "    for x in range(boarders['x_min'] - 1, boarders['x_max'] + 2):\n",
    "        for y in range(boarders['y_min'] - 1, boarders['y_max'] + 2):\n",
    "            for z in range(boarders['z_min'] - 1, boarders['z_max'] + 2):\n",
    "                cube = x, y, z\n",
    "                    \n",
    "                active_neighbours = count_active_neighbours(cube, active_cubes)\n",
    "        \n",
    "                if cube in active_cubes:\n",
    "                    if active_neighbours == 2 or active_neighbours == 3:\n",
    "                        new_active_cubes.add(cube)\n",
    "                else:\n",
    "                    if active_neighbours == 3:\n",
    "                        new_active_cubes.add(cube)\n",
    "    \n",
    "    return new_active_cubes\n",
    "\n",
    "\n",
    "def get_grid_boarders(active_cubes):\n",
    "    boarders = dict()\n",
    "    \n",
    "    boarders['x_min'] = min(active_cubes, key=lambda cube: cube[0])[0]\n",
    "    boarders['x_max'] = max(active_cubes, key=lambda cube: cube[0])[0]\n",
    "    \n",
    "    boarders['y_min'] = min(active_cubes, key=lambda cube: cube[1])[1]\n",
    "    boarders['y_max'] = max(active_cubes, key=lambda cube: cube[1])[1]\n",
    "    \n",
    "    boarders['z_min'] = min(active_cubes, key=lambda cube: cube[2])[2]\n",
    "    boarders['z_max'] = max(active_cubes, key=lambda cube: cube[2])[2]\n",
    "    \n",
    "    return boarders\n",
    "                \n",
    "        \n",
    "def count_active_neighbours(cube, active_cubes):\n",
    "    count = 0\n",
    "    \n",
    "    for neighbour in get_neighbours(cube):\n",
    "        if neighbour in active_cubes:\n",
    "            count += 1\n",
    "    \n",
    "    return count\n",
    "\n",
    "def get_neighbours(position):\n",
    "    x, y, z = position\n",
    "    \n",
    "    for x_offset in (-1, 0, 1):\n",
    "        for y_offset in (-1, 0, 1):\n",
    "            for z_offset in (-1, 0, 1):\n",
    "                if x_offset == 0 and y_offset == 0 and z_offset == 0:\n",
    "                    continue\n",
    "                    \n",
    "                yield x + x_offset, y + y_offset, z + z_offset"
   ]
  },
  {
   "cell_type": "code",
   "execution_count": 43,
   "metadata": {},
   "outputs": [
    {
     "name": "stdout",
     "output_type": "stream",
     "text": [
      "PASSED (in 31.12 [ms])\n"
     ]
    }
   ],
   "source": [
    "from helpers import test_single_case\n",
    "\n",
    "test_input = \"\"\"\\\n",
    ".#.\n",
    "..#\n",
    "###\\\n",
    "\"\"\"\n",
    "test_single_case(part_1_solution, 112, test_input)"
   ]
  },
  {
   "cell_type": "code",
   "execution_count": 44,
   "metadata": {},
   "outputs": [
    {
     "name": "stdout",
     "output_type": "stream",
     "text": [
      "Part 1 solution: 346\n",
      "CPU times: user 69.6 ms, sys: 547 µs, total: 70.1 ms\n",
      "Wall time: 66.1 ms\n"
     ]
    }
   ],
   "source": [
    "%%time\n",
    "print(f\"Part 1 solution: {part_1_solution(puzzle_data)}\")"
   ]
  },
  {
   "cell_type": "code",
   "execution_count": 57,
   "metadata": {},
   "outputs": [],
   "source": [
    "with open(\"inputs/Day_17.txt\") as f:\n",
    "    puzzle_data = f.read()\n",
    "    \n",
    "    \n",
    "def part_2_solution(raw_data):\n",
    "    active_cubes = parse_grid(raw_data)\n",
    "    \n",
    "    for tick in range(6):\n",
    "        active_cubes = simulate_single_tick(active_cubes)\n",
    "\n",
    "    return len(active_cubes)\n",
    "    \n",
    "def parse_grid(raw_grid):\n",
    "    active_cubes = set()\n",
    "    \n",
    "    z = w = 0\n",
    "    \n",
    "    for row_idx, row in enumerate(raw_grid.splitlines()):\n",
    "        for column_idx, char in enumerate(row):\n",
    "            if char == '#':\n",
    "                current_position = (column_idx, row_idx, z, w)\n",
    "                active_cubes.add(current_position)\n",
    "                \n",
    "    return active_cubes\n",
    "    \n",
    "    \n",
    "def simulate_single_tick(active_cubes):\n",
    "    new_active_cubes = set()\n",
    "    boarders = get_grid_boarders(active_cubes)\n",
    "    \n",
    "    for x in range(boarders['x_min'] - 1, boarders['x_max'] + 2):\n",
    "        for y in range(boarders['y_min'] - 1, boarders['y_max'] + 2):\n",
    "            for z in range(boarders['z_min'] - 1, boarders['z_max'] + 2):\n",
    "                for w in range(boarders['w_min'] - 1, boarders['w_max'] + 2):\n",
    "                    cube = x, y, z, w\n",
    "\n",
    "                    active_neighbours = count_active_neighbours(cube, active_cubes)\n",
    "\n",
    "                    if cube in active_cubes:\n",
    "                        if active_neighbours == 2 or active_neighbours == 3:\n",
    "                            new_active_cubes.add(cube)\n",
    "                    else:\n",
    "                        if active_neighbours == 3:\n",
    "                            new_active_cubes.add(cube)\n",
    "    \n",
    "    return new_active_cubes\n",
    "\n",
    "def get_grid_boarders(active_cubes):\n",
    "    boarders = dict()\n",
    "    \n",
    "    boarders['x_min'] = min(active_cubes, key=lambda cube: cube[0])[0]\n",
    "    boarders['x_max'] = max(active_cubes, key=lambda cube: cube[0])[0]\n",
    "    \n",
    "    boarders['y_min'] = min(active_cubes, key=lambda cube: cube[1])[1]\n",
    "    boarders['y_max'] = max(active_cubes, key=lambda cube: cube[1])[1]\n",
    "    \n",
    "    boarders['z_min'] = min(active_cubes, key=lambda cube: cube[2])[2]\n",
    "    boarders['z_max'] = max(active_cubes, key=lambda cube: cube[2])[2]\n",
    "    \n",
    "    boarders['w_min'] = min(active_cubes, key=lambda cube: cube[3])[3]\n",
    "    boarders['w_max'] = max(active_cubes, key=lambda cube: cube[3])[3]\n",
    "    \n",
    "    return boarders\n",
    "                \n",
    "        \n",
    "def count_active_neighbours(cube, active_cubes):\n",
    "    count = 0\n",
    "    \n",
    "    for neighbour in get_neighbours(cube):\n",
    "        if neighbour in active_cubes:\n",
    "            count += 1\n",
    "    \n",
    "    return count\n",
    "\n",
    "\n",
    "def get_neighbours(position):\n",
    "    x, y, z, w = position\n",
    "    \n",
    "    for x_offset in (-1, 0, 1):\n",
    "        for y_offset in (-1, 0, 1):\n",
    "            for z_offset in (-1, 0, 1):\n",
    "                for w_offset in (-1, 0, 1):\n",
    "                    if x_offset == 0 and y_offset == 0 and z_offset == 0 and w_offset == 0:\n",
    "                        continue\n",
    "                    \n",
    "                    yield x + x_offset, y + y_offset, z + z_offset, w + w_offset"
   ]
  },
  {
   "cell_type": "code",
   "execution_count": 58,
   "metadata": {},
   "outputs": [
    {
     "name": "stdout",
     "output_type": "stream",
     "text": [
      "PASSED (in 2256.30 [ms])\n"
     ]
    }
   ],
   "source": [
    "test_single_case(part_2_solution, 848, test_input)"
   ]
  },
  {
   "cell_type": "code",
   "execution_count": 59,
   "metadata": {},
   "outputs": [
    {
     "name": "stdout",
     "output_type": "stream",
     "text": [
      "Part 2 solution: 1632\n",
      "CPU times: user 3.99 s, sys: 0 ns, total: 3.99 s\n",
      "Wall time: 3.99 s\n"
     ]
    }
   ],
   "source": [
    "%%time\n",
    "print(f\"Part 2 solution: {part_2_solution(puzzle_data)}\")"
   ]
  },
  {
   "cell_type": "code",
   "execution_count": null,
   "metadata": {},
   "outputs": [],
   "source": []
  }
 ],
 "metadata": {
  "kernelspec": {
   "display_name": "Python 3",
   "language": "python",
   "name": "python3"
  },
  "language_info": {
   "codemirror_mode": {
    "name": "ipython",
    "version": 3
   },
   "file_extension": ".py",
   "mimetype": "text/x-python",
   "name": "python",
   "nbconvert_exporter": "python",
   "pygments_lexer": "ipython3",
   "version": "3.8.5"
  }
 },
 "nbformat": 4,
 "nbformat_minor": 4
}
