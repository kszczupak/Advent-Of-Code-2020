{
 "cells": [
  {
   "cell_type": "code",
   "execution_count": 63,
   "metadata": {},
   "outputs": [],
   "source": [
    "import re\n",
    "from collections import Counter\n",
    "\n",
    "with open(\"inputs/Day_21.txt\") as f:\n",
    "    puzzle_data = f.read()\n",
    "    \n",
    "    \n",
    "FOOD_RE = re.compile(r'(?P<ingredients>.+) \\(contains (?P<allergens>.+)\\)') \n",
    "    \n",
    "    \n",
    "def part_1_solution(raw_data):\n",
    "    all_allergens = dict()\n",
    "    all_ingredients = set()\n",
    "    counted_ingredients = Counter()\n",
    "    \n",
    "    for raw_food in raw_data.splitlines():\n",
    "#         print(raw_food)\n",
    "        match = FOOD_RE.match(raw_food)\n",
    "        assert match\n",
    "        food_allergens = match['allergens'].split(',')\n",
    "        food_ingredients_list = match['ingredients'].split(' ')\n",
    "        counted_ingredients.update(food_ingredients_list)\n",
    "        \n",
    "        food_ingredients = set(food_ingredients_list)\n",
    "        all_ingredients |= food_ingredients\n",
    "        \n",
    "        for food_allergen in food_allergens:\n",
    "            food_allergen = food_allergen.strip()\n",
    "            if food_allergen in all_allergens:\n",
    "                all_allergens[food_allergen] &= food_ingredients\n",
    "            else:\n",
    "                all_allergens[food_allergen] = set(food_ingredients)\n",
    "    \n",
    "#     allergens, ingredients = parse_foods(raw_data)\n",
    "#     print(allergens)\n",
    "    possible_allergens = set()\n",
    "    for condidate_allergens in all_allergens.values():\n",
    "        possible_allergens |= condidate_allergens\n",
    "        \n",
    "    cant_be_allergen = all_ingredients - possible_allergens\n",
    "    \n",
    "    ans = 0\n",
    "    for not_allergen in cant_be_allergen:\n",
    "        ans += counted_ingredients[not_allergen]\n",
    "        \n",
    "    return ans\n"
   ]
  },
  {
   "cell_type": "code",
   "execution_count": 64,
   "metadata": {},
   "outputs": [
    {
     "name": "stdout",
     "output_type": "stream",
     "text": [
      "PASSED (in 0.03 [ms])\n"
     ]
    }
   ],
   "source": [
    "from helpers import test_single_case\n",
    "\n",
    "test_input = \"\"\"\\\n",
    "mxmxvkd kfcds sqjhc nhms (contains dairy, fish)\n",
    "trh fvjkl sbzzf mxmxvkd (contains dairy)\n",
    "sqjhc fvjkl (contains soy)\n",
    "sqjhc mxmxvkd sbzzf (contains fish)\\\n",
    "\"\"\"\n",
    "\n",
    "test_single_case(part_1_solution, 5, test_input)"
   ]
  },
  {
   "cell_type": "code",
   "execution_count": 65,
   "metadata": {},
   "outputs": [
    {
     "name": "stdout",
     "output_type": "stream",
     "text": [
      "Part 1 solution: 2020\n",
      "CPU times: user 932 µs, sys: 154 µs, total: 1.09 ms\n",
      "Wall time: 845 µs\n"
     ]
    }
   ],
   "source": [
    "%%time\n",
    "print(f\"Part 1 solution: {part_1_solution(puzzle_data)}\")"
   ]
  },
  {
   "cell_type": "code",
   "execution_count": 66,
   "metadata": {},
   "outputs": [],
   "source": [
    "import re\n",
    "\n",
    "with open(\"inputs/Day_21.txt\") as f:\n",
    "    puzzle_data = f.read()\n",
    "    \n",
    "    \n",
    "def part_2_solution(raw_data):\n",
    "    possible_allergens, ingredients = parse_foods(raw_data)\n",
    "    \n",
    "    \n",
    "    allergens = dict()\n",
    "    while possible_allergens:\n",
    "        currently_known_allergens = set(allergens.values())\n",
    "        for allergen, possible_ingredients in possible_allergens.items():\n",
    "            if len(possible_ingredients) == 1:\n",
    "                allergens[allergen] = possible_ingredients.pop()\n",
    "                del possible_allergens[allergen]\n",
    "                break\n",
    "            else:\n",
    "                possible_allergens[allergen] -= currently_known_allergens\n",
    "                \n",
    "    result = list()\n",
    "    \n",
    "    for allergen in sorted(allergens.keys()):\n",
    "        result.append(allergens[allergen])\n",
    "        \n",
    "    return \",\".join(result)\n",
    "\n",
    "    \n",
    "FOOD_RE = re.compile(r'(?P<ingredients>.+) \\(contains (?P<allergens>.+)\\)') \n",
    "\n",
    "\n",
    "def parse_foods(raw_foods):\n",
    "    all_allergens = dict()\n",
    "    all_ingredients = set()\n",
    "    \n",
    "    for raw_food in raw_foods.splitlines():\n",
    "        match = FOOD_RE.match(raw_food)\n",
    "        assert match\n",
    "        food_allergens = match['allergens'].split(',')\n",
    "        food_ingredients = set(match['ingredients'].split(' '))\n",
    "        all_ingredients |= food_ingredients\n",
    "        \n",
    "        for food_allergen in food_allergens:\n",
    "            food_allergen = food_allergen.strip()\n",
    "            if food_allergen in all_allergens:\n",
    "                all_allergens[food_allergen] &= food_ingredients\n",
    "            else:\n",
    "                all_allergens[food_allergen] = set(food_ingredients)\n",
    "        \n",
    "    return all_allergens, all_ingredients"
   ]
  },
  {
   "cell_type": "code",
   "execution_count": 67,
   "metadata": {},
   "outputs": [
    {
     "name": "stdout",
     "output_type": "stream",
     "text": [
      "PASSED (in 0.05 [ms])\n"
     ]
    }
   ],
   "source": [
    "from helpers import test_single_case\n",
    "\n",
    "test_input = \"\"\"\\\n",
    "mxmxvkd kfcds sqjhc nhms (contains dairy, fish)\n",
    "trh fvjkl sbzzf mxmxvkd (contains dairy)\n",
    "sqjhc fvjkl (contains soy)\n",
    "sqjhc mxmxvkd sbzzf (contains fish)\\\n",
    "\"\"\"\n",
    "\n",
    "test_single_case(part_2_solution, \"mxmxvkd,sqjhc,fvjkl\", test_input)"
   ]
  },
  {
   "cell_type": "code",
   "execution_count": 68,
   "metadata": {},
   "outputs": [
    {
     "name": "stdout",
     "output_type": "stream",
     "text": [
      "Part 2 solution: bcdgf,xhrdsl,vndrb,dhbxtb,lbnmsr,scxxn,bvcrrfbr,xcgtv\n",
      "CPU times: user 1.88 ms, sys: 309 µs, total: 2.19 ms\n",
      "Wall time: 1.25 ms\n"
     ]
    }
   ],
   "source": [
    "%%time\n",
    "print(f\"Part 2 solution: {part_2_solution(puzzle_data)}\")"
   ]
  },
  {
   "cell_type": "code",
   "execution_count": null,
   "metadata": {},
   "outputs": [],
   "source": []
  }
 ],
 "metadata": {
  "kernelspec": {
   "display_name": "Python 3",
   "language": "python",
   "name": "python3"
  },
  "language_info": {
   "codemirror_mode": {
    "name": "ipython",
    "version": 3
   },
   "file_extension": ".py",
   "mimetype": "text/x-python",
   "name": "python",
   "nbconvert_exporter": "python",
   "pygments_lexer": "ipython3",
   "version": "3.8.5"
  }
 },
 "nbformat": 4,
 "nbformat_minor": 4
}
