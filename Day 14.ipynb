{
 "cells": [
  {
   "cell_type": "code",
   "execution_count": 58,
   "metadata": {},
   "outputs": [],
   "source": [
    "import re\n",
    "\n",
    "with open(\"inputs/Day_14.txt\") as f:\n",
    "    puzzle_data = f.read()\n",
    "    \n",
    "    \n",
    "def part_1_solution(raw_data):\n",
    "    memory = dict()\n",
    "    mask = None\n",
    "    \n",
    "    for raw_line in raw_data.splitlines():\n",
    "        if raw_line.startswith('mask'):\n",
    "            mask = parse_mask(raw_line)\n",
    "            continue\n",
    "            \n",
    "        memory_idx, init_value = parse_memory_instruction(raw_line)\n",
    "        memory[memory_idx] = apply_mask(init_value, mask)\n",
    "        \n",
    "    return sum(memory.values())\n",
    "\n",
    "def parse_mask(raw_mask):\n",
    "    mask = dict()\n",
    "    _, mask_value = raw_mask.split('=')\n",
    "    mask_value = mask_value.strip()\n",
    "\n",
    "    for idx, value in enumerate(mask_value):\n",
    "        if value != 'X':\n",
    "            mask[idx] = value\n",
    "    return mask\n",
    "\n",
    "def parse_memory_instruction(raw_instruction):\n",
    "    match = re.match(r'mem\\[(?P<idx>\\d*)\\] = (?P<value>\\d*)', raw_instruction)\n",
    "    return int(match['idx']), int(match['value'])\n",
    "\n",
    "def apply_mask(value, mask):\n",
    "    value_bin = list(f\"{value:036b}\")\n",
    "    for idx, bit in mask.items():\n",
    "        value_bin[idx] = bit\n",
    "    \n",
    "    return int(\"\".join(value_bin), 2)"
   ]
  },
  {
   "cell_type": "code",
   "execution_count": 60,
   "metadata": {},
   "outputs": [
    {
     "name": "stdout",
     "output_type": "stream",
     "text": [
      "PASSED (in 0.06 [ms])\n"
     ]
    }
   ],
   "source": [
    "from helpers import test_single_case\n",
    "\n",
    "test_input = \"\"\"\\\n",
    "mask = XXXXXXXXXXXXXXXXXXXXXXXXXXXXX1XXXX0X\n",
    "mem[8] = 11\n",
    "mem[7] = 101\n",
    "mem[8] = 0\\\n",
    "\"\"\"\n",
    "test_single_case(part_1_solution, 165, test_input)"
   ]
  },
  {
   "cell_type": "code",
   "execution_count": 61,
   "metadata": {},
   "outputs": [
    {
     "name": "stdout",
     "output_type": "stream",
     "text": [
      "Part 1 solution: 12512013221615\n",
      "CPU times: user 3.48 ms, sys: 0 ns, total: 3.48 ms\n",
      "Wall time: 3.45 ms\n"
     ]
    }
   ],
   "source": [
    "%%time\n",
    "print(f\"Part 1 solution: {part_1_solution(puzzle_data)}\")"
   ]
  },
  {
   "cell_type": "code",
   "execution_count": 18,
   "metadata": {},
   "outputs": [],
   "source": [
    "import re\n",
    "\n",
    "with open(\"inputs/Day_14.txt\") as f:\n",
    "    puzzle_data = f.read()\n",
    "    \n",
    "    \n",
    "def part_2_solution(raw_data):\n",
    "    memory = dict()\n",
    "    mask = None\n",
    "    \n",
    "    for raw_line in raw_data.splitlines():\n",
    "        if raw_line.startswith('mask'):\n",
    "            mask = parse_mask(raw_line)\n",
    "            continue\n",
    "            \n",
    "        memory_idx, value = parse_memory_instruction(raw_line)\n",
    "        \n",
    "        possible_idx = apply_mask(memory_idx, mask)\n",
    "        \n",
    "        for memory_idx in possible_idx:\n",
    "            memory[memory_idx] = value\n",
    "        \n",
    "    return sum(memory.values())\n",
    "\n",
    "def parse_mask(raw_mask):\n",
    "    mask = dict()\n",
    "    _, mask_value = raw_mask.split('=')\n",
    "    mask_value = mask_value.strip()\n",
    "    \n",
    "    return mask_value\n",
    "\n",
    "def parse_memory_instruction(raw_instruction):\n",
    "    match = re.match(r'mem\\[(?P<idx>\\d*)\\] = (?P<value>\\d*)', raw_instruction)\n",
    "    return int(match['idx']), int(match['value'])\n",
    "\n",
    "def apply_mask(value, mask):\n",
    "    def add_char_to_all_numbers(char_to_add, numbers):\n",
    "        if not numbers:\n",
    "            return [[char_to_add]]\n",
    "\n",
    "        new_numbers = list()\n",
    "        for number in numbers:\n",
    "            new_number = number[:]\n",
    "            new_number.append(char_to_add)\n",
    "            new_numbers.append(new_number)\n",
    "\n",
    "        return new_numbers\n",
    "    \n",
    "    value_bin = list(f\"{value:036b}\")\n",
    "    possible_values = list()\n",
    "    \n",
    "    for idx, char in enumerate(mask):\n",
    "        if char == 'X':\n",
    "            numbers_with_added_0 = add_char_to_all_numbers('0', possible_values)\n",
    "            numbers_with_added_1 = add_char_to_all_numbers('1', possible_values)\n",
    "            possible_values = numbers_with_added_0\n",
    "            possible_values.extend(numbers_with_added_1)\n",
    "        elif char == '1':\n",
    "            possible_values = add_char_to_all_numbers('1', possible_values)\n",
    "        elif char == '0':\n",
    "            possible_values = add_char_to_all_numbers(value_bin[idx], possible_values)\n",
    "        else:\n",
    "            raise Exception(f\"Unknown char: {char}\")\n",
    "    \n",
    "    return [int(\"\".join(possible_value), 2) for possible_value in possible_values]"
   ]
  },
  {
   "cell_type": "code",
   "execution_count": 19,
   "metadata": {},
   "outputs": [
    {
     "name": "stdout",
     "output_type": "stream",
     "text": [
      "PASSED (in 0.13 [ms])\n"
     ]
    }
   ],
   "source": [
    "from helpers import test_single_case\n",
    "\n",
    "test_input = \"\"\"\\\n",
    "mask = 000000000000000000000000000000X1001X\n",
    "mem[42] = 100\n",
    "mask = 00000000000000000000000000000000X0XX\n",
    "mem[26] = 1\\\n",
    "\"\"\"\n",
    "test_single_case(part_2_solution, 208, test_input)"
   ]
  },
  {
   "cell_type": "code",
   "execution_count": 20,
   "metadata": {},
   "outputs": [
    {
     "name": "stdout",
     "output_type": "stream",
     "text": [
      "Part 2 solution: 3905642473893\n",
      "CPU times: user 408 ms, sys: 9.2 ms, total: 417 ms\n",
      "Wall time: 415 ms\n"
     ]
    }
   ],
   "source": [
    "%%time\n",
    "print(f\"Part 2 solution: {part_2_solution(puzzle_data)}\")"
   ]
  },
  {
   "cell_type": "code",
   "execution_count": null,
   "metadata": {},
   "outputs": [],
   "source": []
  }
 ],
 "metadata": {
  "kernelspec": {
   "display_name": "Python 3",
   "language": "python",
   "name": "python3"
  },
  "language_info": {
   "codemirror_mode": {
    "name": "ipython",
    "version": 3
   },
   "file_extension": ".py",
   "mimetype": "text/x-python",
   "name": "python",
   "nbconvert_exporter": "python",
   "pygments_lexer": "ipython3",
   "version": "3.8.5"
  }
 },
 "nbformat": 4,
 "nbformat_minor": 4
}
