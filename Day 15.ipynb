{
 "cells": [
  {
   "cell_type": "code",
   "execution_count": 38,
   "metadata": {},
   "outputs": [],
   "source": [
    "from collections import defaultdict\n",
    "\n",
    "puzzle_input = [14,8,16,0,1,17]\n",
    "    \n",
    "    \n",
    "def part_1_solution(initial_data):\n",
    "    visited_numbers = defaultdict(list)\n",
    "    spoken_number = None\n",
    "    \n",
    "    for turn_idx in range(2020):\n",
    "        if turn_idx < len(initial_data):\n",
    "            spoken_number = initial_data[turn_idx]\n",
    "        else:\n",
    "            if spoken_number in visited_numbers and len(visited_numbers[spoken_number]) > 1:\n",
    "                spoken_number = turn_idx - 1 - visited_numbers[spoken_number][-2]\n",
    "            else:\n",
    "                spoken_number = 0\n",
    "                \n",
    "#         print(f\"{turn_idx=}  {spoken_number=}\")\n",
    "\n",
    "        visited_numbers[spoken_number].append(turn_idx)\n",
    "        \n",
    "    return spoken_number"
   ]
  },
  {
   "cell_type": "code",
   "execution_count": 39,
   "metadata": {},
   "outputs": [
    {
     "data": {
      "text/plain": [
       "defaultdict(list, {1: [1], 2: [2]})"
      ]
     },
     "execution_count": 39,
     "metadata": {},
     "output_type": "execute_result"
    }
   ],
   "source": [
    "a = defaultdict(list)\n",
    "a[1].append(1)\n",
    "a[2].append(2)\n",
    "a"
   ]
  },
  {
   "cell_type": "code",
   "execution_count": 40,
   "metadata": {},
   "outputs": [
    {
     "name": "stdout",
     "output_type": "stream",
     "text": [
      "Case #0: PASSED (0.91 [ms])\n",
      "Case #1: PASSED (0.88 [ms])\n",
      "Case #2: PASSED (0.83 [ms])\n",
      "Case #3: PASSED (0.83 [ms])\n",
      "Case #4: PASSED (0.83 [ms])\n",
      "Case #5: PASSED (0.83 [ms])\n",
      "Case #6: PASSED (0.99 [ms])\n",
      "========================================\n",
      "All tests passed; Elapsed time: 11.21 [ms]\n"
     ]
    }
   ],
   "source": [
    "from helpers import test_multiple_cases\n",
    "\n",
    "test_multiple_cases(\n",
    "    part_1_solution,\n",
    "    (\n",
    "        (436, [0,3,6]),\n",
    "        (1, [1,3,2]),\n",
    "        (10, [2,1,3]),\n",
    "        (27, [1,2,3]),\n",
    "        (78, [2,3,1]),\n",
    "        (438, [3,2,1]),\n",
    "        (1836, [3,1,2])\n",
    "    )\n",
    ")"
   ]
  },
  {
   "cell_type": "code",
   "execution_count": 41,
   "metadata": {},
   "outputs": [
    {
     "name": "stdout",
     "output_type": "stream",
     "text": [
      "Part 1 solution: 240\n",
      "CPU times: user 710 µs, sys: 459 µs, total: 1.17 ms\n",
      "Wall time: 1.18 ms\n"
     ]
    }
   ],
   "source": [
    "%%time\n",
    "print(f\"Part 1 solution: {part_1_solution(puzzle_input)}\")"
   ]
  },
  {
   "cell_type": "code",
   "execution_count": 48,
   "metadata": {},
   "outputs": [],
   "source": [
    "from collections import defaultdict\n",
    "from time import time\n",
    "\n",
    "puzzle_input = [14,8,16,0,1,17]\n",
    "    \n",
    "    \n",
    "def part_2_solution(initial_data):\n",
    "    visited_numbers = defaultdict(list)\n",
    "    spoken_number = None\n",
    "    start = time()\n",
    "    \n",
    "    for turn_idx in range(30000000):\n",
    "        if not turn_idx % 1000000:\n",
    "            print(f\"{turn_idx=}  {time() - start}\")\n",
    "        if turn_idx < len(initial_data):\n",
    "            spoken_number = initial_data[turn_idx]\n",
    "        else:\n",
    "            if spoken_number in visited_numbers and len(visited_numbers[spoken_number]) > 1:\n",
    "                spoken_number = turn_idx - 1 - visited_numbers[spoken_number][-2]\n",
    "            else:\n",
    "                spoken_number = 0\n",
    "                \n",
    "#         print(f\"{turn_idx=}  {spoken_number=}\")\n",
    "\n",
    "        visited_numbers[spoken_number].append(turn_idx)\n",
    "        \n",
    "    return spoken_number"
   ]
  },
  {
   "cell_type": "code",
   "execution_count": 50,
   "metadata": {},
   "outputs": [
    {
     "name": "stdout",
     "output_type": "stream",
     "text": [
      "turn_idx=0  2.86102294921875e-06\n",
      "turn_idx=1000000  0.6502416133880615\n",
      "turn_idx=2000000  2.0551958084106445\n",
      "turn_idx=3000000  2.6059212684631348\n",
      "turn_idx=4000000  3.165616273880005\n",
      "turn_idx=5000000  4.665956258773804\n",
      "turn_idx=6000000  5.279468059539795\n",
      "turn_idx=7000000  5.869238615036011\n",
      "turn_idx=8000000  6.490987300872803\n",
      "turn_idx=9000000  8.333102941513062\n",
      "turn_idx=10000000  8.992075204849243\n",
      "turn_idx=11000000  9.654233694076538\n",
      "turn_idx=12000000  10.351050853729248\n",
      "turn_idx=13000000  10.989140510559082\n",
      "turn_idx=14000000  13.41773772239685\n",
      "turn_idx=15000000  14.0953369140625\n",
      "turn_idx=16000000  14.764487743377686\n",
      "turn_idx=17000000  15.438087940216064\n",
      "turn_idx=18000000  16.142843008041382\n",
      "turn_idx=19000000  16.84642004966736\n",
      "turn_idx=20000000  20.216672658920288\n",
      "turn_idx=21000000  20.91917586326599\n",
      "turn_idx=22000000  21.616674184799194\n",
      "turn_idx=23000000  22.312495708465576\n",
      "turn_idx=24000000  23.08964991569519\n",
      "turn_idx=25000000  23.757703065872192\n",
      "turn_idx=26000000  24.497642278671265\n",
      "turn_idx=27000000  25.202138423919678\n",
      "turn_idx=28000000  29.6117844581604\n",
      "turn_idx=29000000  30.335370779037476\n",
      "Part 2 solution: 505\n",
      "CPU times: user 33.4 s, sys: 0 ns, total: 33.4 s\n",
      "Wall time: 33.3 s\n"
     ]
    }
   ],
   "source": [
    "%%time\n",
    "print(f\"Part 2 solution: {part_2_solution(puzzle_input)}\")"
   ]
  },
  {
   "cell_type": "code",
   "execution_count": null,
   "metadata": {},
   "outputs": [],
   "source": []
  }
 ],
 "metadata": {
  "kernelspec": {
   "display_name": "Python 3",
   "language": "python",
   "name": "python3"
  },
  "language_info": {
   "codemirror_mode": {
    "name": "ipython",
    "version": 3
   },
   "file_extension": ".py",
   "mimetype": "text/x-python",
   "name": "python",
   "nbconvert_exporter": "python",
   "pygments_lexer": "ipython3",
   "version": "3.8.5"
  }
 },
 "nbformat": 4,
 "nbformat_minor": 4
}
