{
 "cells": [
  {
   "cell_type": "code",
   "execution_count": 80,
   "metadata": {},
   "outputs": [],
   "source": [
    "with open(\"inputs/Day_18.txt\") as f:\n",
    "    puzzle_data = f.read()\n",
    "    \n",
    "    \n",
    "def part_1_solution(raw_data):\n",
    "    ans = 0\n",
    "    \n",
    "    for expression in raw_data.splitlines():\n",
    "        ans += evaluate_expression(expression)\n",
    "        \n",
    "    return ans\n",
    "\n",
    "\n",
    "def evaluate_expression(raw_expression):\n",
    "    result, _ = evaluate_sub_expression(raw_expression, 0)\n",
    "    return result\n",
    "\n",
    "\n",
    "def evaluate_sub_expression(raw_expression, idx):\n",
    "    operators = list()\n",
    "    output = list()\n",
    "    \n",
    "    while idx < len(raw_expression):\n",
    "        token = raw_expression[idx]\n",
    "\n",
    "        if token in ('+', '*'):\n",
    "            operators.append(token)\n",
    "        elif token == '(':\n",
    "            parentheses_expression_result, idx = evaluate_sub_expression(raw_expression, idx + 1) \n",
    "            output.append(parentheses_expression_result)\n",
    "        elif token.isdigit():\n",
    "            output.append(int(token))\n",
    "        elif token == ')':\n",
    "            break\n",
    "        \n",
    "        idx += 1\n",
    "                \n",
    "    while operators:\n",
    "        current_operator = operators.pop(0)\n",
    "        operator_result = get_operator_result(current_operator, output.pop(0), output.pop(0))\n",
    "        output.insert(0, operator_result)\n",
    "\n",
    "    return output.pop(), idx\n",
    "\n",
    "\n",
    "def get_operator_result(operator, left, right):\n",
    "    if operator == '+':\n",
    "        return left + right\n",
    "    \n",
    "    if operator == '*':\n",
    "        return left * right\n",
    "    \n",
    "    raise Exception(f\"Unknown operation: {operator}\")"
   ]
  },
  {
   "cell_type": "code",
   "execution_count": 81,
   "metadata": {},
   "outputs": [
    {
     "name": "stdout",
     "output_type": "stream",
     "text": [
      "Case #0: PASSED (0.03 [ms])\n",
      "Case #1: PASSED (0.03 [ms])\n",
      "Case #2: PASSED (0.02 [ms])\n",
      "Case #3: PASSED (0.02 [ms])\n",
      "Case #4: PASSED (0.03 [ms])\n",
      "Case #5: PASSED (0.03 [ms])\n",
      "========================================\n",
      "All tests passed; Elapsed time: 1.91 [ms]\n"
     ]
    }
   ],
   "source": [
    "from helpers import test_multiple_cases\n",
    "\n",
    "test_multiple_cases(\n",
    "    evaluate_expression,\n",
    "    (\n",
    "        (71, \"1 + 2 * 3 + 4 * 5 + 6\"),\n",
    "        (51, \"1 + (2 * 3) + (4 * (5 + 6))\"),\n",
    "        (26, \"2 * 3 + (4 * 5)\"),\n",
    "        (437, \"5 + (8 * 3 + 9 + 3 * 4 * 3)\"),\n",
    "        (12240, \"5 * 9 * (7 * 3 * 3 + 9 * 3 + (8 + 6 * 4))\"),\n",
    "        (13632, \"((2 + 4 * 9) * (6 + 9 * 8 + 6) + 6) + 2 + 4 * 2\")\n",
    "    )                \n",
    ")"
   ]
  },
  {
   "cell_type": "code",
   "execution_count": 79,
   "metadata": {},
   "outputs": [
    {
     "name": "stdout",
     "output_type": "stream",
     "text": [
      "Part 1 solution: 3348222486398\n",
      "CPU times: user 10.7 ms, sys: 0 ns, total: 10.7 ms\n",
      "Wall time: 10.1 ms\n"
     ]
    }
   ],
   "source": [
    "%%time\n",
    "print(f\"Part 1 solution: {part_1_solution(puzzle_data)}\")"
   ]
  },
  {
   "cell_type": "code",
   "execution_count": 85,
   "metadata": {},
   "outputs": [],
   "source": [
    "with open(\"inputs/Day_18.txt\") as f:\n",
    "    puzzle_data = f.read()\n",
    "    \n",
    "    \n",
    "def part_2_solution(raw_data):\n",
    "    ans = 0\n",
    "    \n",
    "    for expression in raw_data.splitlines():\n",
    "        ans += evaluate_expression(expression)\n",
    "        \n",
    "    return ans\n",
    "\n",
    "\n",
    "def evaluate_expression(raw_expression):\n",
    "    expression_in_reverse_polish_notation = to_reverse_polish_notation(raw_expression)\n",
    "    return evaluate_polish_notation(expression_in_reverse_polish_notation)\n",
    "\n",
    "\n",
    "def to_reverse_polish_notation(raw_expression):\n",
    "    operators = list()\n",
    "    expression_in_reverse_polish_notation = \"\"\n",
    "    \n",
    "    \n",
    "    for token in raw_expression:\n",
    "        if token == '*':\n",
    "            \n",
    "            while operators and operators[-1] != '(':\n",
    "                expression_in_reverse_polish_notation += operators.pop()\n",
    "                \n",
    "            operators.append(token)\n",
    "        elif token in ('+', '('):\n",
    "            operators.append(token)\n",
    "        elif token == ')':\n",
    "            while True:\n",
    "                current_operator = operators.pop()\n",
    "                if current_operator == '(':\n",
    "                    break\n",
    "                expression_in_reverse_polish_notation += current_operator\n",
    "        elif token.isdigit():\n",
    "            expression_in_reverse_polish_notation += token\n",
    "            \n",
    "    while operators:\n",
    "        expression_in_reverse_polish_notation += operators.pop()\n",
    "        \n",
    "    return expression_in_reverse_polish_notation\n",
    "\n",
    "\n",
    "def evaluate_polish_notation(expression):\n",
    "    stack = list()\n",
    "    \n",
    "    for token in expression:\n",
    "        if token.isdigit():\n",
    "            stack.append(token)\n",
    "        elif token in ('*', '+'):\n",
    "            left = int(stack.pop())\n",
    "            right = int(stack.pop())\n",
    "            result = left * right if token == '*' else left + right\n",
    "            stack.append(result)\n",
    "            \n",
    "    return stack.pop()"
   ]
  },
  {
   "cell_type": "code",
   "execution_count": 86,
   "metadata": {},
   "outputs": [
    {
     "name": "stdout",
     "output_type": "stream",
     "text": [
      "Case #0: PASSED (0.04 [ms])\n",
      "Case #1: PASSED (0.07 [ms])\n",
      "Case #2: PASSED (0.03 [ms])\n",
      "Case #3: PASSED (0.06 [ms])\n",
      "Case #4: PASSED (0.05 [ms])\n",
      "Case #5: PASSED (0.05 [ms])\n",
      "========================================\n",
      "All tests passed; Elapsed time: 3.61 [ms]\n"
     ]
    }
   ],
   "source": [
    "from helpers import test_multiple_cases\n",
    "\n",
    "test_multiple_cases(\n",
    "    evaluate_expression,\n",
    "    (\n",
    "        (231, \"1 + 2 * 3 + 4 * 5 + 6\"),\n",
    "        (51, \"1 + (2 * 3) + (4 * (5 + 6))\"),\n",
    "        (46, \"2 * 3 + (4 * 5)\"),\n",
    "        (1445, \"5 + (8 * 3 + 9 + 3 * 4 * 3)\"),\n",
    "        (669060, \"5 * 9 * (7 * 3 * 3 + 9 * 3 + (8 + 6 * 4))\"),\n",
    "        (23340, \"((2 + 4 * 9) * (6 + 9 * 8 + 6) + 6) + 2 + 4 * 2\")\n",
    "    )                \n",
    ")"
   ]
  },
  {
   "cell_type": "code",
   "execution_count": 87,
   "metadata": {},
   "outputs": [
    {
     "name": "stdout",
     "output_type": "stream",
     "text": [
      "Part 2 solution: 43423343619505\n",
      "CPU times: user 36 ms, sys: 443 µs, total: 36.4 ms\n",
      "Wall time: 33.2 ms\n"
     ]
    }
   ],
   "source": [
    "%%time\n",
    "print(f\"Part 2 solution: {part_2_solution(puzzle_data)}\")"
   ]
  },
  {
   "cell_type": "code",
   "execution_count": null,
   "metadata": {},
   "outputs": [],
   "source": []
  }
 ],
 "metadata": {
  "kernelspec": {
   "display_name": "Python 3",
   "language": "python",
   "name": "python3"
  },
  "language_info": {
   "codemirror_mode": {
    "name": "ipython",
    "version": 3
   },
   "file_extension": ".py",
   "mimetype": "text/x-python",
   "name": "python",
   "nbconvert_exporter": "python",
   "pygments_lexer": "ipython3",
   "version": "3.8.5"
  }
 },
 "nbformat": 4,
 "nbformat_minor": 4
}
